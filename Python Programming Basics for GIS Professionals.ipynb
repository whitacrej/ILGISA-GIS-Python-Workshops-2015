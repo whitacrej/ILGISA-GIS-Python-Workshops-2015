{
 "cells": [
  {
   "cell_type": "markdown",
   "metadata": {},
   "source": [
    "# Python Programming Basics for GIS Professionals\n",
    "\n",
    "**Description:**\n",
    "\n",
    "Programming tools are now a standard feature within GIS software packages and allow professionals to automate, speed up, and become more precise in their analytic work. This workshop is designed for GIS professionals and students who have little to no experience or exposure to computer programming. Core programming concepts related to GIS work will be presented using the Python programming language. The workshop will be focused on guiding attendees through hands-on modules designed to provide the essential skills to programmatically manipulate data as part of a GIS workflow. This workshop is designed to be preparation for the afternoon workshop on Getting Started with Python in ArcGIS but may be taken independently.\n",
    "\n",
    "**Specific Topics Include:**\n",
    "* Core programming concepts\n",
    "* Working with CSV files within Python\n",
    "* Data cleaning and processing tasks\n",
    "* Explore GIS data using Python\n",
    "* Preparing data sets for ingestion into GIS software\n",
    "\n",
    "**Computing and Software Needs:**\n",
    "* Your own laptop; computers will not be provided.\n",
    "* Python IDE\n",
    "    * <a href=\"http://sourceforge.net/projects/pyscripter/files/\" target=\"_blank\">PyScripter</a> (v. 2.6.0 **32-bit**) *NOTE:* The zip files contain portable versions of PyScripter.   No installation is needed. Just unzip the archive and start using PyScripter.\n",
    "    * <a href=\"https://www.jetbrains.com/pycharm/download/\" target=\"_blank\">JetBrains PyCharm Community Edition</a> *NOTE:* This IDE requires admin privileges to install.\n",
    "    * IDLE is also shipped with ArcGIS for Desktop, so it can also be used\n",
    "\n",
    "* <a href=\"https://pypi.python.org/pypi/nominatim/0.1\" target=\"_blank\">OSM Nominatim API module</a> *NOTE:* Windows users will need to download the Windows installer .exe file.\n",
    "* ArcGIS 10.2+ for Desktop (Standard or Advanced)\n",
    "\n",
    "\n",
    "**Instructors:**\n",
    "\n",
    "**James Whitacre**, GIS Specialist, University Library, University of Illinois at Urbana-Champaign\n",
    "\n",
    "As the GIS Specialist in the Main Library at the University of Illinois at Urbana-Champaign, Mr. Whitacre's primary role is to provide GIS consultation and research assistance for faculty, staff, and students. Additionally, he teaches a myriad of GIS workshops for beginner to advanced users and helps manage the Library's GIS data and software assets. He is also a central resource for the GIS community on campus to promote the use of GIS in research. Mr. Whitacre holds a Master of Science in Geography and was previously the GIS Manager for the Carnegie Museum of Natural History.\n",
    "\n",
    "**Zoe Zaloudek**, GIS Specialist, Illinois State Water Survey, Prairie Research Institute\n",
    "\n",
    "Bio..."
   ]
  },
  {
   "cell_type": "markdown",
   "metadata": {},
   "source": [
    "# Welcome stuff"
   ]
  },
  {
   "cell_type": "markdown",
   "metadata": {},
   "source": [
    "# Installation\n",
    "\n",
    "While we're getting started, everyone should start downloading PyCharm Community edition.\n",
    "\n",
    "Located here: https://www.jetbrains.com/pycharm/download/\n",
    "\n",
    "This can be a large file, I have it on a flash drive if we need.  \n",
    "\n",
    "Does anyone not have the rights to install software?\n",
    "\n",
    "Already using Python?  If you feel comfortable in your own envirionment, use that but I provide no guarentees of support.  Just have it downloaded?  Go ahead and get PyCharm so you can follow along."
   ]
  },
  {
   "cell_type": "markdown",
   "metadata": {},
   "source": [
    "## Inside Pycharm\n",
    "\n",
    "* Use all the default installation paths\n",
    "* When you create a new package, name it something like GISPractice.\n",
    "* Right click on that project name on the left box area, select new -> Python file.\n",
    "\n",
    "* Windows folk:\n",
    "    * Download the exe file here: https://pypi.python.org/pypi/nominatim/0.1\n",
    "\n",
    "* Mac folk:\n",
    "    * Download and install developer tools: https://itunes.apple.com/us/genre/mac-developer-tools/id12002?mt=12\n",
    "    * Open up terminal and run `pip install nominatim`  You may need to use sudo.\n",
    "\n",
    "\n",
    "* Inside your .py file, type this:\n",
    "\n",
    "```import nominatim\n",
    "print \"hello world\"```\n",
    "\n",
    "* Click the green play button"
   ]
  },
  {
   "cell_type": "markdown",
   "metadata": {},
   "source": [
    "# What is Python?"
   ]
  },
  {
   "cell_type": "code",
   "execution_count": null,
   "metadata": {
    "collapsed": true
   },
   "outputs": [],
   "source": []
  },
  {
   "cell_type": "code",
   "execution_count": null,
   "metadata": {
    "collapsed": true
   },
   "outputs": [],
   "source": []
  },
  {
   "cell_type": "markdown",
   "metadata": {},
   "source": [
    "# How to make your commands run"
   ]
  },
  {
   "cell_type": "markdown",
   "metadata": {},
   "source": [
    "## Running scrips in PyCharm"
   ]
  },
  {
   "cell_type": "markdown",
   "metadata": {},
   "source": [
    "## Using the interpreter in PyCharm"
   ]
  },
  {
   "cell_type": "markdown",
   "metadata": {},
   "source": [
    "At the bottom left of the PyCharm window you'll see a square with a line under it.  Click that, then click Python Console.  You can also press ctrl/cmd + 4.  General theme here:  type stuff, press enter, stuff happens."
   ]
  },
  {
   "cell_type": "markdown",
   "metadata": {},
   "source": [
    "## `print` statements"
   ]
  },
  {
   "cell_type": "code",
   "execution_count": null,
   "metadata": {
    "collapsed": true
   },
   "outputs": [],
   "source": []
  },
  {
   "cell_type": "code",
   "execution_count": null,
   "metadata": {
    "collapsed": true
   },
   "outputs": [],
   "source": []
  },
  {
   "cell_type": "markdown",
   "metadata": {},
   "source": [
    "## expressions"
   ]
  },
  {
   "cell_type": "code",
   "execution_count": null,
   "metadata": {
    "collapsed": true
   },
   "outputs": [],
   "source": []
  },
  {
   "cell_type": "code",
   "execution_count": null,
   "metadata": {
    "collapsed": true
   },
   "outputs": [],
   "source": []
  },
  {
   "cell_type": "markdown",
   "metadata": {},
   "source": [
    "# Core Objects"
   ]
  },
  {
   "cell_type": "markdown",
   "metadata": {},
   "source": [
    "## `int` vs. `float`"
   ]
  },
  {
   "cell_type": "markdown",
   "metadata": {},
   "source": [
    "## `string`"
   ]
  },
  {
   "cell_type": "markdown",
   "metadata": {},
   "source": [
    "## `list`"
   ]
  },
  {
   "cell_type": "markdown",
   "metadata": {},
   "source": [
    "# `for` loops"
   ]
  },
  {
   "cell_type": "markdown",
   "metadata": {},
   "source": [
    "## What is a loop?"
   ]
  },
  {
   "cell_type": "code",
   "execution_count": null,
   "metadata": {
    "collapsed": true
   },
   "outputs": [],
   "source": []
  },
  {
   "cell_type": "code",
   "execution_count": null,
   "metadata": {
    "collapsed": true
   },
   "outputs": [],
   "source": []
  },
  {
   "cell_type": "markdown",
   "metadata": {},
   "source": [
    "## `for` versus `while`"
   ]
  },
  {
   "cell_type": "code",
   "execution_count": null,
   "metadata": {
    "collapsed": true
   },
   "outputs": [],
   "source": []
  },
  {
   "cell_type": "code",
   "execution_count": null,
   "metadata": {
    "collapsed": true
   },
   "outputs": [],
   "source": []
  },
  {
   "cell_type": "code",
   "execution_count": null,
   "metadata": {
    "collapsed": true
   },
   "outputs": [],
   "source": []
  },
  {
   "cell_type": "markdown",
   "metadata": {},
   "source": [
    "## Let's do some stuff with range"
   ]
  },
  {
   "cell_type": "markdown",
   "metadata": {},
   "source": [
    "Let's print out all the longitude values, incrementing by 15 degrees."
   ]
  },
  {
   "cell_type": "code",
   "execution_count": null,
   "metadata": {
    "collapsed": false
   },
   "outputs": [],
   "source": [
    "for i in range(-180, 181, 15):\n",
    "    print i"
   ]
  },
  {
   "cell_type": "markdown",
   "metadata": {},
   "source": [
    "Great, so I've printed a bunch of numbers.\n",
    "\n",
    "Yes, yes you have.\n",
    "\n",
    "Use your imagination for application!"
   ]
  },
  {
   "cell_type": "markdown",
   "metadata": {},
   "source": [
    "Let's look at this basic syntax:"
   ]
  },
  {
   "cell_type": "code",
   "execution_count": null,
   "metadata": {
    "collapsed": true
   },
   "outputs": [],
   "source": [
    "iterable_object = ['a', 'b', 'c', 'd']"
   ]
  },
  {
   "cell_type": "code",
   "execution_count": null,
   "metadata": {
    "collapsed": false
   },
   "outputs": [],
   "source": [
    "for iterable_variable in iterable_object:\n",
    "    # do something to the iterable_varilable\n",
    "    print iterable_variable"
   ]
  },
  {
   "cell_type": "markdown",
   "metadata": {
    "collapsed": true
   },
   "source": [
    "This iterable variable is named and created when the for loop first executes.  This variable will hold the individual value being looped over.  You can call it and do things to the value, or you can just ignore it.\n",
    "\n",
    "`for` loops are one of the most vital tools when dealing with data.  These are loops you use when you have a specific number of things to run the loop over.  For example, \"For each of the lines of data...\" or \"For each coordinate pair in my data file...\"\n",
    "\n",
    "`while` loops are on the other end of the loop spectrum.  These are indeterminate loops becuase you don't know how many times you need to run the loop.  For example, \"Until the coordinates are out of range...\" or \"While the areas is less than 1,000 acres...\"\n",
    "\n",
    "Let's review the syntax for the `while` loop, but we won't be covering it in the demos in class."
   ]
  },
  {
   "cell_type": "code",
   "execution_count": null,
   "metadata": {
    "collapsed": false
   },
   "outputs": [],
   "source": [
    "import random\n",
    "\n",
    "area = 0\n",
    "target = 1000\n",
    "plot_count = 0\n",
    "\n",
    "while area < target:\n",
    "    plot_size = random.randint(30,50)\n",
    "    area = area + plot_size\n",
    "    plot_count = plot_count + 1\n",
    "    print area\n",
    "    \n",
    "print \"Final area is\", area, \"using\", plot_count, \"plots\""
   ]
  },
  {
   "cell_type": "markdown",
   "metadata": {},
   "source": [
    "`while` loops can be very tricky and are worth practicing before really using.  However, they can be very powerful control structures."
   ]
  },
  {
   "cell_type": "markdown",
   "metadata": {},
   "source": [
    "# Reading in data"
   ]
  },
  {
   "cell_type": "markdown",
   "metadata": {},
   "source": [
    "When we read in a file we need to store the data in some way. There are many methods and structures to accomplish this.  The best way will be something you are comfortable with and fits the data.  Chances are you'll develop one way you're comfortable with that works with most of the data you work with."
   ]
  },
  {
   "cell_type": "markdown",
   "metadata": {},
   "source": [
    "## Opening and reading a file"
   ]
  },
  {
   "cell_type": "markdown",
   "metadata": {},
   "source": [
    "There are two methods of opening a file.  `open()` and `close()` or `with`.  I'll be showing you the `with` statement the most, but we'll go over both quickly."
   ]
  },
  {
   "cell_type": "markdown",
   "metadata": {},
   "source": [
    "In both cases, start with the file path as a string.  In this case, we're doing a relative path because the file is a sibling to this notebook in the file system.\n",
    "\n",
    "For more commands and options: https://docs.python.org/2/tutorial/inputoutput.html#reading-and-writing-files"
   ]
  },
  {
   "cell_type": "code",
   "execution_count": null,
   "metadata": {
    "collapsed": true
   },
   "outputs": [],
   "source": [
    "filename_relative = 'Data/CSV/chicacoCSA.csv'\n",
    "filename_full = '/Users/wickes1/Documents/wickes-ilgisa-workshop-2015/chicacoCSA.csv'\n",
    "# windows full paths will look different!\n",
    "# filename_full = 'C:/Users/jvwhit/Documents/IPythonNotebooks/ILGISA/Data/CSV/chicacoCSA.csv'"
   ]
  },
  {
   "cell_type": "markdown",
   "metadata": {},
   "source": [
    "Now we need to make our file object."
   ]
  },
  {
   "cell_type": "code",
   "execution_count": null,
   "metadata": {
    "collapsed": true
   },
   "outputs": [],
   "source": [
    "f = open(filename_relative, 'rU')"
   ]
  },
  {
   "cell_type": "markdown",
   "metadata": {},
   "source": [
    "Now we read in the file"
   ]
  },
  {
   "cell_type": "code",
   "execution_count": null,
   "metadata": {
    "collapsed": false
   },
   "outputs": [],
   "source": [
    "data = f.read()"
   ]
  },
  {
   "cell_type": "markdown",
   "metadata": {},
   "source": [
    "We can see the raw text values here."
   ]
  },
  {
   "cell_type": "code",
   "execution_count": null,
   "metadata": {
    "collapsed": false
   },
   "outputs": [],
   "source": [
    "print data"
   ]
  },
  {
   "cell_type": "markdown",
   "metadata": {},
   "source": [
    "But there's a better way to read in a file based on lines.  There are many ways to read in files and well worth some investigation time.  However, `readlines()` is a very common method for reading in individual lines of a file."
   ]
  },
  {
   "cell_type": "code",
   "execution_count": null,
   "metadata": {
    "collapsed": true
   },
   "outputs": [],
   "source": [
    "f = open(filename_relative, 'rU')\n",
    "\n",
    "data = f.readlines()"
   ]
  },
  {
   "cell_type": "markdown",
   "metadata": {},
   "source": [
    "Let's take a moment here to comment on the notation system happening.  We can see that f is becoming our open file object.  This object is waiting to be read.  We can then pick whichever reading method we want to perform on it, and then do so via `f.methodname()`.  These methods are functions that we are calling on the objects. "
   ]
  },
  {
   "cell_type": "code",
   "execution_count": null,
   "metadata": {
    "collapsed": false
   },
   "outputs": [],
   "source": [
    "for e in data:\n",
    "    print e"
   ]
  },
  {
   "cell_type": "markdown",
   "metadata": {},
   "source": [
    "Check out those extra blank lines.  This can be an artifact from coming in from Excel.  When you see this, use `strip()` to clean things up.  This function cleans off any white space characters from both the left and the right of a line of text.  There are also `rstrip()` and `lstrip()` in case those would be useful."
   ]
  },
  {
   "cell_type": "code",
   "execution_count": null,
   "metadata": {
    "collapsed": false
   },
   "outputs": [],
   "source": [
    "for e in data:\n",
    "    print e.strip()"
   ]
  },
  {
   "cell_type": "markdown",
   "metadata": {},
   "source": [
    "## Opening and reading a CSV file"
   ]
  },
  {
   "cell_type": "markdown",
   "metadata": {},
   "source": [
    "When we're opening a CSV file, we should import the CSV module.  This brings in the CSV helper functions.  These modules know what a CSV is, how text should be sanitized, etc.  You *can* do this yourself.........but you don't want to.  Just use the CSV module.\n",
    "\n",
    "Do you have data with lots of unicode text and in Python 2?  Install the `unicodecsv` package from pypi: https://pypi.python.org/pypi/unicodecsv.\n",
    "\n",
    "`pip install unicodecsv`"
   ]
  },
  {
   "cell_type": "code",
   "execution_count": null,
   "metadata": {
    "collapsed": true
   },
   "outputs": [],
   "source": [
    "import csv"
   ]
  },
  {
   "cell_type": "markdown",
   "metadata": {},
   "source": [
    "We can now call the csv module functions by appending them to `csv`.\n",
    "\n",
    "The two core functions you'll use are:\n",
    "* `csv.reader(file object)` to create a reading object\n",
    "* `csv.writer(file object` to create a writing object.\n",
    "\n",
    "When we write files we use these two functions:\n",
    "\n",
    "* `writerow(row)` to write a single row\n",
    "* `writerows(list of lists)` to write many rows"
   ]
  },
  {
   "cell_type": "markdown",
   "metadata": {},
   "source": [
    "Below are some basic formulas for reading in data.  Many of these formulas came from chapter 6 of the [Python Cookbook (third edition)](http://chimera.labs.oreilly.com/books/1230000000393).  Not all of this syntax will make sense, but just treat it as a formula for now.  Things will make more sense as you learn more about Python.\n",
    "\n",
    "You can read the chapter for free here:  http://chimera.labs.oreilly.com/books/1230000000393/ch06.html"
   ]
  },
  {
   "cell_type": "code",
   "execution_count": null,
   "metadata": {
    "collapsed": false
   },
   "outputs": [],
   "source": [
    "with open('chicacoCSA.csv', 'rU') as file_in:\n",
    "    file_in = csv.reader(file_in)\n",
    "    headers = next(file_in)\n",
    "    data = []\n",
    "    for line in file_in:\n",
    "        data.append(line)"
   ]
  },
  {
   "cell_type": "code",
   "execution_count": null,
   "metadata": {
    "collapsed": false
   },
   "outputs": [],
   "source": [
    "for l in data:\n",
    "    print l"
   ]
  },
  {
   "cell_type": "markdown",
   "metadata": {
    "collapsed": true
   },
   "source": [
    "Now this looks like something we can start dealing with.  Each row is coming in as a list, with each cell value as an element within that Nth corresponding position.  Let's do some quick sanity checking."
   ]
  },
  {
   "cell_type": "code",
   "execution_count": null,
   "metadata": {
    "collapsed": false
   },
   "outputs": [],
   "source": [
    "# is each row the same length...\n",
    "\n",
    "for row in data:\n",
    "    print len(row)"
   ]
  },
  {
   "cell_type": "code",
   "execution_count": null,
   "metadata": {
    "collapsed": false
   },
   "outputs": [],
   "source": [
    "# Looks good!  Now, we can loop through and get all the city names...\n",
    "\n",
    "for row in data:\n",
    "    print row[1]"
   ]
  },
  {
   "cell_type": "markdown",
   "metadata": {},
   "source": [
    "Again, there are many ways to get at the data from a CSV file.  Take some time to experiment with a few other techniques.  You'll find your comfort zone.  What I've shown here is one of the simplest possible mechanisms.  There are more advanced methods for more complex data."
   ]
  },
  {
   "cell_type": "markdown",
   "metadata": {},
   "source": [
    "## Switching gears..."
   ]
  },
  {
   "cell_type": "markdown",
   "metadata": {},
   "source": [
    "At this point we've looked at how to work with lists and read in a CSV into a list of lists.  This means that we can get into a CSV file and access data columns within it.  Let's take another file with free text city names.  Let's work on writing a script that will loop through all the city names, lookup the coordinates for those places, and then output the results into a new file.\n",
    "\n",
    "We can make a rough outline of our program...\n",
    "\n",
    "* Read in the file\n",
    "* Get to the city names\n",
    "* Run those city names through our Open Street Map tool\n",
    "* Save those values\n",
    "* Output a new file\n",
    "\n",
    "We already know how to do the first two tasks:  open the file and get to the city names.  What we need to work on next is a way to run those values through the Open Street Map nominatim tool."
   ]
  },
  {
   "cell_type": "markdown",
   "metadata": {},
   "source": [
    "# Playing with `nominatim`"
   ]
  },
  {
   "cell_type": "markdown",
   "metadata": {},
   "source": [
    "Before we can plug this tool into a script we need to take some time getting to know how it works.  The best place to start is to replicate what's in the documentation: https://github.com/damianbraun/nominatim"
   ]
  },
  {
   "cell_type": "code",
   "execution_count": null,
   "metadata": {
    "collapsed": false
   },
   "outputs": [],
   "source": [
    "from IPython.display import HTML"
   ]
  },
  {
   "cell_type": "code",
   "execution_count": null,
   "metadata": {
    "collapsed": false
   },
   "outputs": [],
   "source": [
    "#HTML('https://github.com/damianbraun/nominatim/blob/master/README.md')"
   ]
  },
  {
   "cell_type": "markdown",
   "metadata": {},
   "source": [
    "Everyone should have already installed this from our setup time.  Go ahead and try this:"
   ]
  },
  {
   "cell_type": "code",
   "execution_count": null,
   "metadata": {
    "collapsed": false
   },
   "outputs": [],
   "source": [
    "from nominatim import Nominatim #importing the module\n",
    "nom = Nominatim() # instantiation of a Nominatim object.\n",
    "result =  nom.query('Springfield, IL') # act on this object, by doing a query"
   ]
  },
  {
   "cell_type": "code",
   "execution_count": null,
   "metadata": {
    "collapsed": false
   },
   "outputs": [],
   "source": [
    "print result"
   ]
  },
  {
   "cell_type": "markdown",
   "metadata": {
    "collapsed": true
   },
   "source": [
    "That's a bunch of stuff!  We need to dig in to see the data structure though.  Here we're going to meet the other container type: the dictionary.\n",
    "\n",
    "First, let's see what it is returning to us."
   ]
  },
  {
   "cell_type": "code",
   "execution_count": null,
   "metadata": {
    "collapsed": false
   },
   "outputs": [],
   "source": [
    "print type(result)"
   ]
  },
  {
   "cell_type": "markdown",
   "metadata": {},
   "source": [
    "So this is a list, and we can see that by the opening and closing square brackets.  Let's look at an easy way to see what's inside of a list."
   ]
  },
  {
   "cell_type": "code",
   "execution_count": null,
   "metadata": {
    "collapsed": false
   },
   "outputs": [],
   "source": [
    "# how long is it?\n",
    "\n",
    "print len(result)"
   ]
  },
  {
   "cell_type": "code",
   "execution_count": null,
   "metadata": {
    "collapsed": false
   },
   "outputs": [],
   "source": [
    "# so there are 10 things in here...\n",
    "\n",
    "# let's look at this using how we know to loop through lists\n",
    "\n",
    "for each in result:\n",
    "    print each"
   ]
  },
  {
   "cell_type": "code",
   "execution_count": null,
   "metadata": {
    "collapsed": false
   },
   "outputs": [],
   "source": [
    "# But what are these things?\n",
    "\n",
    "for each in result:\n",
    "    print type(each)"
   ]
  },
  {
   "cell_type": "markdown",
   "metadata": {},
   "source": [
    "Dictionaries, or `dict`s, are container-like objects but don't work at all like `list`s.  `dict`s are key/value pairs, almost like mini databases.  For example, we know that cities have properties like latitude and longitude.  Instead of storing these in specific positions we can name those values so we can look them up directly.\n",
    "\n",
    "For example, we could say this:"
   ]
  },
  {
   "cell_type": "code",
   "execution_count": null,
   "metadata": {
    "collapsed": true
   },
   "outputs": [],
   "source": [
    "springfield = {'lat': '39.7989763', 'lon': '-89.6443688'}"
   ]
  },
  {
   "cell_type": "markdown",
   "metadata": {},
   "source": [
    "Let's look a this syntax.  A `dict` is stored withthin a pair of curly brackets {}.  Keys and values are separated by a colon, with the key on the left and the value on the right.  The `springfield` dictionary above has two key/value pairs.\n",
    "\n",
    "We can access these values with a notation somewhat similar to looking things up in a list.  The name of the key goes inside square brackets after the name of the variable.  Note that I did have to include the quotes for the key names because they are strings.  You can use any object as a key, but remember that you do need to look it up later.\n",
    "\n",
    "Ever used JSON or need to?  You'll interact with that data format much like working with a Python dictionary."
   ]
  },
  {
   "cell_type": "code",
   "execution_count": null,
   "metadata": {
    "collapsed": false
   },
   "outputs": [],
   "source": [
    "print springfield['lat']"
   ]
  },
  {
   "cell_type": "code",
   "execution_count": null,
   "metadata": {
    "collapsed": false
   },
   "outputs": [],
   "source": [
    "print springfield['lon']"
   ]
  },
  {
   "cell_type": "markdown",
   "metadata": {},
   "source": [
    "Now that we know a little bit better about how to read a dictionary, we can take a closer look at the first result coming in for Springfield.  Remember the index notation to look up items in a list."
   ]
  },
  {
   "cell_type": "code",
   "execution_count": null,
   "metadata": {
    "collapsed": false
   },
   "outputs": [],
   "source": [
    "print result[0]\n",
    "\n",
    "first_result = result[0]"
   ]
  },
  {
   "cell_type": "code",
   "execution_count": null,
   "metadata": {
    "collapsed": false
   },
   "outputs": [],
   "source": [
    "# can we make this more readable?\n",
    "\n",
    "for each in first_result:\n",
    "    print each"
   ]
  },
  {
   "cell_type": "code",
   "execution_count": null,
   "metadata": {
    "collapsed": false
   },
   "outputs": [],
   "source": [
    "# So that will print the key names, can we get the values?\n",
    "# note that I don't have to put key in quotes because it is holding the full object value\n",
    "\n",
    "for key in first_result:\n",
    "    print key, \": \", first_result[key]"
   ]
  },
  {
   "cell_type": "markdown",
   "metadata": {},
   "source": [
    "This is helpful.  We can see the key values on the left along with the example values next to that.  Looks like we can get the lat and lon values from keys called `'lat'` and `'lon'`.  Let's try that now."
   ]
  },
  {
   "cell_type": "code",
   "execution_count": null,
   "metadata": {
    "collapsed": false
   },
   "outputs": [],
   "source": [
    "print first_result['lat'], first_result['lon']"
   ]
  },
  {
   "cell_type": "markdown",
   "metadata": {},
   "source": [
    "The nominatim package will return a list of results for your text query, with the best hit being the first in the list.  Once we have this first result, we can extract information from it.  Let's put this all together."
   ]
  },
  {
   "cell_type": "code",
   "execution_count": null,
   "metadata": {
    "collapsed": false
   },
   "outputs": [],
   "source": [
    "first = result[0]\n",
    "name = first['display_name']\n",
    "lat = first['lat']\n",
    "lon = first['lon']\n",
    "\n",
    "print name\n",
    "print lat, lon"
   ]
  },
  {
   "cell_type": "markdown",
   "metadata": {},
   "source": [
    "But what happens when we want to do this systematically?  Say, we have a list of 800 city names and we want to gather the lat/lon results for them all?  What will really help us is writing a function.  These allow us to custom define a series of commands that we can call as needed.  Functions can take input and return output."
   ]
  },
  {
   "cell_type": "code",
   "execution_count": null,
   "metadata": {
    "collapsed": true
   },
   "outputs": [],
   "source": [
    "def get_lat_lon(nom_results):\n",
    "    first = nom_results[0]  #get the first result\n",
    "    lat = first['lat']\n",
    "    lon = first['lon']\n",
    "    return {'lat': lat, 'lon': lon} "
   ]
  },
  {
   "cell_type": "code",
   "execution_count": null,
   "metadata": {
    "collapsed": false
   },
   "outputs": [],
   "source": [
    "# so we can throw the query command into this function and get what we want\n",
    "\n",
    "get_lat_lon(nom.query(\"springfield, IL\"))"
   ]
  },
  {
   "cell_type": "markdown",
   "metadata": {},
   "source": [
    "The data are being returned as a dictionary, so we can access the values by name.\n",
    "\n",
    "Let's put all this together into a basic script."
   ]
  },
  {
   "cell_type": "code",
   "execution_count": null,
   "metadata": {
    "collapsed": false
   },
   "outputs": [],
   "source": [
    "from nominatim import Nominatim\n",
    "\n",
    "def get_lat_lon(nom_results):\n",
    "    first = nom_results[0]  #get the first result\n",
    "    lat = first['lat']\n",
    "    lon = first['lon']\n",
    "    return {'lat': lat, 'lon': lon}\n",
    "\n",
    "cities = [\"Champaign, IL\", \"Springfield, IL\", \"Bloomington, IL\"]\n",
    "\n",
    "nom = Nominatim()\n",
    "\n",
    "for city in cities:\n",
    "    lookup = get_lat_lon(nom.query(city))\n",
    "    print lookup['lat'], lookup['lon']"
   ]
  },
  {
   "cell_type": "markdown",
   "metadata": {
    "collapsed": true
   },
   "source": [
    "This is actually an entire Python script.  It is still very simple because it is just looping over a small group of cities and plainly printing out the results, but hopefully you can see where we would add in code to read in a file and write out an output.\n",
    "\n",
    "One note here:  The instantiation of nom is happening outside the function...which is kind of back practice.  However, reinstatiating it for every query significantly slows down the process.  This is a case where we made a tweak to optimize the code for speed.\n",
    "\n",
    "Speaking of which, we need to learn how we would write out a file!\n",
    "\n",
    "We've got some output now that we're just printing to our console, but we'd like to write it out to a file so we can save our results and read them into something like ArcGIS.  We're going to look at two different ways to write out these results.  First a pretty raw method, and then via the CSV module.  \n",
    "\n",
    "We can use our script again as a base but add in 1) a way to store all the results "
   ]
  },
  {
   "cell_type": "code",
   "execution_count": null,
   "metadata": {
    "collapsed": false
   },
   "outputs": [],
   "source": [
    "from nominatim import Nominatim\n",
    "\n",
    "def get_lat_lon(nom_results):\n",
    "    first = nom_results[0]  #get the first result\n",
    "    lat = first['lat']\n",
    "    lon = first['lon']\n",
    "    return {'lat': lat, 'lon': lon}\n",
    "\n",
    "cities = [\"Champaign, IL\", \"Springfield, IL\", \"Bloomington, IL\"]\n",
    "\n",
    "nom = Nominatim()\n",
    "\n",
    "output = open('latlonresults.txt', 'wt') # note the use of 'wt' here, windows users might use 'w'\n",
    "\n",
    "headers = \"city\\tlat\\tlon\\n\" # manually putting in the tabs and newline\n",
    "\n",
    "output.write(headers) # writing the headers to the open file\n",
    "\n",
    "for city in cities:\n",
    "    lookup = get_lat_lon(nom.query(city))\n",
    "    line = city + \"\\t\" + lookup['lat'] + \"\\t\" + lookup['lon'] + \"\\n\" # creating the line contents\n",
    "    output.write(line) # writing the line to the file\n",
    "    \n",
    "output.close() # closing the file"
   ]
  },
  {
   "cell_type": "markdown",
   "metadata": {
    "collapsed": true
   },
   "source": [
    "This is a screenshot of the output file open in Word where we can see how the white space characters are formatted.  We can see that `\\t` turned into tabs and `\\n` turned into a newline.  Given that there are commas in the city name we need to use a delimiter other than a comma.  You'll want to customize this according to how you need to read in your data into the next program.\n",
    "\n",
    "<img src = \"writtenfileinword.png\" />\n",
    "\n",
    "This method of 1) open the file, 2) do the loop while writing, 3) closing the file can be valuable when you have very complex structures determining what is written or you are reading in stuff from other files.\n",
    "\n",
    "For the other example we'll use another recipe from the Python Cookbook (http://chimera.labs.oreilly.com/books/1230000000393/ch06.html) to make this happen.\n",
    "\n",
    "A major disadvantage to the previous method is that it isn't sanitizing the data in any way.  For example, we know that none of the city names have a `\\t` character within them because we can see them all.  However, if you are pulling in data from an external source and have thousands of records it isn't always possible to check what the values are.  Additionally, sometimes the destination for this output file will require a specific delimiter, and that might be a common character for the data that you are working with.  Therefore, it would be nice to use a module that automatically handled these cases for us.  The `csv writer` tools will automatically handle this.\n",
    "\n",
    "There are many ways to use the CSV module to write a file.  This is just one way.  Again, I encourage you to explore and find a recipe that works well with your own data and methods.  The method shown here will take lists and write those out such that each element in a list belongs to a different column."
   ]
  },
  {
   "cell_type": "code",
   "execution_count": null,
   "metadata": {
    "collapsed": false
   },
   "outputs": [],
   "source": [
    "from nominatim import Nominatim\n",
    "import csv\n",
    "\n",
    "def get_lat_lon(nom_results):\n",
    "    first = nom_results[0]  #get the first result\n",
    "    lat = first['lat']\n",
    "    lon = first['lon']\n",
    "    return {'lat': lat, 'lon': lon}\n",
    "\n",
    "cities = [\"Champaign, IL\", \"Springfield, IL\", \"Bloomington, IL\"]\n",
    "\n",
    "nom = Nominatim()\n",
    "\n",
    "headers = [\"city\", \"lat\", \"lon\"]\n",
    "\n",
    "result_rows = []\n",
    "\n",
    "for city in cities:\n",
    "    lookup = get_lat_lon(nom.query(city))\n",
    "    line = [city, lookup['lat'], lookup['lon']] # creating the line contents\n",
    "    result_rows.append(line)\n",
    "    \n",
    "# at this point I've stored all my data locally and I just need to write it out.\n",
    "# This is not ideal when dealing with LARGE amounts of data.\n",
    "# Try the previous method if you are getting out of memory errors.\n",
    "\n",
    "with open('latlonresultscsvmodule.csv', 'wt') as latlonout:\n",
    "    latlonout = csv.writer(latlonout) # creates a writing object\n",
    "    latlonout.writerow(headers) # writes out one line: the headers\n",
    "    latlonout.writerows(result_rows) # writes out all the lists within this list"
   ]
  },
  {
   "cell_type": "markdown",
   "metadata": {
    "collapsed": true
   },
   "source": [
    "We can look at this file now in Word.\n",
    "\n",
    "<img src = \"latlonresultscsvmoduleinword.png\" />\n",
    "\n",
    "Looks a little different.  The quotes around the city name were automatically inserted by the CSV module to account for that value having the literal value of the delimiter character.  Both of these file open up in Excel the same.\n",
    "\n",
    "Now the only piece missing from this script is reading in city names from a file.  Let's put all this together.  We're going to start with an existing data file, read in the location information, and output a new version of this file with the addition of the the coordinates data."
   ]
  },
  {
   "cell_type": "markdown",
   "metadata": {},
   "source": [
    "# Putting it all together"
   ]
  },
  {
   "cell_type": "markdown",
   "metadata": {},
   "source": [
    "The first step of any process here is to make an assessment of the file that we are working with.  `jeopardysmallillinois.csv` contains data on 409 Jeopardy! players from 1984-2014.  We can view it in excel to get a quick sense of things...\n",
    "\n",
    "<img src = \"exceljeopardypreview.png\"/>\n",
    "\n",
    "So let's use what we've learned to open it up and explore things."
   ]
  },
  {
   "cell_type": "code",
   "execution_count": null,
   "metadata": {
    "collapsed": false
   },
   "outputs": [],
   "source": [
    "import csv\n",
    "\n",
    "source = \"jeopardysmallillinois.csv\"\n",
    "\n",
    "playerdata = []\n",
    "\n",
    "with open(source, 'rt') as file_in:\n",
    "    file_in = csv.reader(file_in)\n",
    "    headers = next(file_in) # reads the first line\n",
    "    for row in file_in: # the file 'curser' now starts at the second row\n",
    "        playerdata.append(row)\n",
    "        \n",
    "print headers # so these are our column names\n",
    "print len(playerdata) # how many data rows we have\n"
   ]
  },
  {
   "cell_type": "markdown",
   "metadata": {},
   "source": [
    "How can we get all the city names?  Pretty easily."
   ]
  },
  {
   "cell_type": "code",
   "execution_count": null,
   "metadata": {
    "collapsed": false
   },
   "outputs": [],
   "source": [
    "cityindex = headers.index('loc')\n",
    "\n",
    "for player in playerdata[:10]: # handy trick to just get the first 10 values\n",
    "    print player[cityindex]"
   ]
  },
  {
   "cell_type": "markdown",
   "metadata": {},
   "source": [
    "But how many cities are there?  For this we need to: \n",
    "\n",
    "1. Collect all the city names\n",
    "2. Determine how many unique values there are\n",
    "\n",
    "This is actually a pretty straight forward task.  Python has an object type called `set`, which is sort of like a list, but has unique properties and tools based on set theory.  You can read more about this data structure in the documentation (https://docs.python.org/2/tutorial/datastructures.html#sets).  They make list manipulation very very simple with some basic application of the set theory.  Remember to look for the green boxes in the documentation for examples.  For those of you who know SQL, there are already some `set` theory tools implemented.  Remember the Venn diagrams all over the documentation (refresher: http://seanmehan.globat.com/blog/2011/12/20/set-theory-and-sql-concepts/)?  The `set` data structure gives you the power to do inner/outer join-like activities."
   ]
  },
  {
   "cell_type": "code",
   "execution_count": null,
   "metadata": {
    "collapsed": false
   },
   "outputs": [],
   "source": [
    "cityindex = headers.index('loc')\n",
    "\n",
    "allcities = []\n",
    "\n",
    "for player in playerdata: # handy trick to just get the first 10 values\n",
    "    allcities.append(player[cityindex])\n",
    "    \n",
    "print len(allcities) # just checking that we have the same number as we did for players\n",
    "\n",
    "# Now we can use the set tools to easily get a list of the unique values"
   ]
  },
  {
   "cell_type": "markdown",
   "metadata": {},
   "source": [
    "When we have `allcities` populated with every city seen within the data, we can do several things.  First, if we cast it as a `set` object it will become a set of just the unique values (as a set cannot contain duplicates)."
   ]
  },
  {
   "cell_type": "code",
   "execution_count": null,
   "metadata": {
    "collapsed": false
   },
   "outputs": [],
   "source": [
    "unique_cities = set(allcities)\n",
    "\n",
    "print len(unique_cities)\n",
    "print unique_cities"
   ]
  },
  {
   "cell_type": "markdown",
   "metadata": {},
   "source": [
    "So there are 134 unique cities in this data file.  Neat!  Maybe we also want to count them.  Why not, right?\n",
    "\n",
    "Python has a great tool (as discussed in the Python Cookbook: http://chimera.labs.oreilly.com/books/1230000000393/ch01.html#_determining_the_most_frequently_occurring_items_in_a_sequence) called `Counter()`\n",
    "\n",
    "When you pass `Counter` a list, it will return a `Counter` object that contains the unique values and tallies for each.  `Counter` objects can easily be recast back to a dictionary object for further manipulation.  Let's look at it in action."
   ]
  },
  {
   "cell_type": "code",
   "execution_count": null,
   "metadata": {
    "collapsed": false
   },
   "outputs": [],
   "source": [
    "from collections import Counter # you need to import it, and do note the capitalization\n",
    "\n",
    "city_count = Counter(allcities)\n",
    "\n",
    "print city_count\n",
    "\n",
    "# cool! now let's make it into a dictionary\n",
    "\n",
    "city_count = dict(city_count)\n",
    "\n",
    "# and as a byproduct we know that the keys are all unique\n",
    "\n",
    "unique_cities = city_count.keys() \n",
    "\n",
    "# .keys() actually does work on a Counter object, but you might need it to be a dict later\n",
    "\n",
    "print len(unique_cities)"
   ]
  },
  {
   "cell_type": "markdown",
   "metadata": {},
   "source": [
    "Now that we have all the cities, we need to make a choice about how to do the lookup.  We don't want to hit the OSM service too many times, but the difference here might not be too bad considering the small volume (~400) cities total that we need to hit.  This is a decision that you'll need to investigate and make depending on the size, volume, and time resources that you have with whatever service you are using.\n",
    "\n",
    "For now, we'll just explore how to look up every value and add it to the data set.\n",
    "\n",
    "To start, we need to plan out what we want to accomplish.\n",
    "\n",
    "1.  Read in the data.\n",
    "2.  Find the city.\n",
    "3.  Look the coordinates up with nominatim.\n",
    "4.  Add those coordinates to relevant row.\n",
    "5.  Write out the file with the new data.\n",
    "\n",
    "Our goal is to preserve the current data and add the new data.  We can start with the script that we already have in place for reading in the data.  We'll then add pieces that we've developed in previous sections."
   ]
  },
  {
   "cell_type": "code",
   "execution_count": 4,
   "metadata": {
    "collapsed": false
   },
   "outputs": [
    {
     "name": "stdout",
     "output_type": "stream",
     "text": [
      "Data\\CSV\\jeopardysmallillinois.csv is read.\n",
      "Getting coordinates.\n",
      "Got all coordinates.\n",
      "CSV file is complete.\n"
     ]
    }
   ],
   "source": [
    "import csv\n",
    "from nominatim import Nominatim\n",
    "import copy # we'll talk about this one in a bit!\n",
    "\n",
    "# bring in the function we wrote for looking up the coordinates\n",
    "\n",
    "def get_lat_lon(nom_results):\n",
    "    if len(nom_results) == 0:\n",
    "        lat = ''\n",
    "        lon = ''\n",
    "    else:\n",
    "        first = nom_results[0]  #get the first result\n",
    "        lat = first['lat']\n",
    "        lon = first['lon']\n",
    "    return {'lat': lat, 'lon': lon}\n",
    "\n",
    "# instantiate the Nominatim object\n",
    "nom = Nominatim()\n",
    "\n",
    "source = \"Data\\CSV\\jeopardysmallillinois.csv\"\n",
    "\n",
    "# empty container to hold the player data\n",
    "playerdata = []\n",
    "\n",
    "# read in the file and populate the playerdata list\n",
    "with open(source, 'r') as file_in:\n",
    "    file_in = csv.reader(file_in)\n",
    "    headers = next(file_in) # reads the first line\n",
    "    for row in file_in: # the file 'curser' now starts at the second row\n",
    "        playerdata.append(row)\n",
    "\n",
    "print source, \"is read.\"\n",
    "# So we have the data!\n",
    "\n",
    "cityindex = headers.index('loc')\n",
    "\n",
    "# making another container to hold the new data\n",
    "\n",
    "playerdata_withcoords = []\n",
    "\n",
    "print \"Getting coordinates.\"\n",
    "\n",
    "for player in playerdata:\n",
    "    p_with_coords = player[:] # empty container for the new line of data\n",
    "    # the [:] notation is to make a deep copy\n",
    "    city = player[cityindex]\n",
    "    nom_results = nom.query(city)\n",
    "    coords = get_lat_lon(nom_results)\n",
    "    p_with_coords.append(coords['lat'])\n",
    "    p_with_coords.append(coords['lon'])\n",
    "    playerdata_withcoords.append(p_with_coords) # add our new row to the main store\n",
    "\n",
    "# should now look like \n",
    "# ['3513', 'Umiko Post', '2002', 'Peoria, Illinois', '2', '0', 'illinois', \n",
    "#         '', u'40.6938609', u'-89.5891008']\n",
    "    \n",
    "# now we need to make the new headers\n",
    "print \"Got all coordinates.\"\n",
    "new_headers = headers[:] # again we need to do a deep copy here\n",
    "\n",
    "# looking back to our code we added lat then lon\n",
    "\n",
    "new_headers.append('lat')\n",
    "new_headers.append('lon')\n",
    "\n",
    "# so we have our headers and we have our data, time to write it out!\n",
    "# note the 'wb' parameter. For windows, this is needed otherwise an extra line break will be added\n",
    "\n",
    "with open('Data\\CSV\\playerswithcoords.csv', 'wb') as file_out:\n",
    "    file_out = csv.writer(file_out)\n",
    "    file_out.writerow(new_headers)\n",
    "    file_out.writerows(playerdata_withcoords)\n",
    "\n",
    "print \"CSV file is complete.\""
   ]
  },
  {
   "cell_type": "markdown",
   "metadata": {},
   "source": [
    "Looking at the final output of this script in Excel, we can see that our original data were preserved with just the lat and lon added at the end.\n",
    "\n",
    "<img src = \"finalout.png\"/>"
   ]
  },
  {
   "cell_type": "code",
   "execution_count": null,
   "metadata": {
    "collapsed": true
   },
   "outputs": [],
   "source": []
  }
 ],
 "metadata": {
  "kernelspec": {
   "display_name": "Python 2",
   "language": "python",
   "name": "python2"
  },
  "language_info": {
   "codemirror_mode": {
    "name": "ipython",
    "version": 2
   },
   "file_extension": ".py",
   "mimetype": "text/x-python",
   "name": "python",
   "nbconvert_exporter": "python",
   "pygments_lexer": "ipython2",
   "version": "2.7.8"
  }
 },
 "nbformat": 4,
 "nbformat_minor": 0
}
