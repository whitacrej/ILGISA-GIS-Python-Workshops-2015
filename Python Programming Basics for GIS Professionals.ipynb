{
 "cells": [
  {
   "cell_type": "markdown",
   "metadata": {},
   "source": [
    "# Python Programming Basics for GIS Professionals\n",
    "\n",
    "**Description:**\n",
    "\n",
    "Programming tools are now a standard feature within GIS software packages and allow professionals to automate, speed up, and become more precise in their analytic work. This workshop is designed for GIS professionals and students who have little to no experience or exposure to computer programming. Core programming concepts related to GIS work will be presented using the Python programming language. The workshop will be focused on guiding attendees through hands-on modules designed to provide the essential skills to programmatically manipulate data as part of a GIS workflow. This workshop is designed to be preparation for the afternoon workshop on Getting Started with Python in ArcGIS but may be taken independently.\n",
    "\n",
    "**Specific Topics Include:**\n",
    "* Core programming concepts\n",
    "* Working with CSV files within Python\n",
    "* Data cleaning and processing tasks\n",
    "* Explore GIS data using Python\n",
    "* Preparing data sets for ingestion into GIS software\n",
    "\n",
    "**Computing and Software Needs:**\n",
    "\n",
    "* Your own laptop; computers will not be provided.\n",
    "\n",
    "* Python IDE\n",
    "    * <a href=\"http://sourceforge.net/projects/pyscripter/files/\" target=\"_blank\">PyScripter</a> (v. 2.6.0 **32-bit**) \n",
    "    *NOTE:* The zip files contain portable versions of PyScripter.   No installation is needed. Just unzip the archive and start using PyScripter.\n",
    "    \n",
    "    * <a href=\"https://www.jetbrains.com/pycharm/download/\" target=\"_blank\">JetBrains PyCharm Community Edition</a> \n",
    "    *NOTE:* This IDE requires admin privileges to install.\n",
    "    \n",
    "    * IDLE is also shipped with ArcGIS for Desktop, so it can also be used.\n",
    "\n",
    "* <a href=\"https://pypi.python.org/pypi/nominatim/0.1\" target=\"_blank\">OSM Nominatim API module</a> *NOTE:* Windows users will need to download the Windows installer .exe file.\n",
    "\n",
    "* ArcGIS 10.1+ for Desktop (Standard or Advanced)\n",
    "\n",
    "\n",
    "**Instructors:**\n",
    "\n",
    "**James Whitacre**, GIS Specialist, University Library, University of Illinois at Urbana-Champaign\n",
    "\n",
    "As the GIS Specialist in the Main Library at the University of Illinois at Urbana-Champaign, Mr. Whitacre's primary role is to provide GIS consultation and research assistance for faculty, staff, and students. Additionally, he teaches a myriad of GIS workshops for beginner to advanced users and helps manage the Library's GIS data and software assets. He is also a central resource for the GIS community on campus to promote the use of GIS in research. Mr. Whitacre holds a Master of Science in Geography and was previously the GIS Manager for the Carnegie Museum of Natural History.\n",
    "\n",
    "**Zoe Zaloudek**, GIS Specialist, Illinois State Water Survey, Prairie Research Institute\n",
    "\n",
    "Zoe earned her B.A. in Geography at the University of Illinois-Urbana in 2005.  Shortly afterward, she began working at the Illinois State Water Survey (ISWS).  As a GIS Specialist there, her work is currently split between FEMA’s Risk Mapping, Assessment and Planning program (Risk MAP), and the Midwestern Regional Climate Center (MRCC).  She started using Model Builder in 2007 to better catalog and streamline workflows.  Upon starting with the MRCC in 2010, she realized the power of Python scripts and hasn’t looked back!\n"
   ]
  },
  {
   "cell_type": "markdown",
   "metadata": {},
   "source": [
    "# I. Introductions"
   ]
  },
  {
   "cell_type": "markdown",
   "metadata": {},
   "source": [
    "# II. IDE Installation\n",
    "\n",
    "* URLs to the softares are located above.\n",
    "* For folks who can't download the files, we have it on a flash drive.\n",
    "* Recommend installing the software if you can. Otherwise, you can use the portable version\n",
    "* Already using a Python IDE?  If you feel comfortable in your own envirionment,  you can use it, but we can't provide a guarentee that we can troubleshoot or support issues.\n",
    "* If all esle fails, you may need to use IDLE, which ships and is installed with ArcGIS for Desktop\n",
    "\n",
    "**Apple folks:**\n",
    "\n",
    "  * Download and install developer tools: https://itunes.apple.com/us/genre/mac-developer-tools/id12002?mt=12\n",
    "  * Open up terminal and run `pip install nominatim`.  You may need to use sudo.\n",
    "  * We may not be able to support this very well\n"
   ]
  },
  {
   "cell_type": "markdown",
   "metadata": {},
   "source": [
    "### Inside the IDE\n",
    "\n",
    "* Open the IDE\n",
    "* Let's take a quick tour!\n",
    "  * Editor\n",
    "  * Code explorer\n",
    "  * Interpreter\n",
    "  * Messages\n",
    "  * Add line numbers\n",
    "  * Change the theme\n",
    "\n",
    "Type the code below and run it! This is your first code (maybe...for some\n"
   ]
  },
  {
   "cell_type": "code",
   "execution_count": null,
   "metadata": {
    "collapsed": false
   },
   "outputs": [],
   "source": [
    "print \"hello world\""
   ]
  },
  {
   "cell_type": "markdown",
   "metadata": {},
   "source": [
    "# III. What is Python?\n",
    "\n",
    "Time for PowerPoint!!!!"
   ]
  },
  {
   "cell_type": "code",
   "execution_count": null,
   "metadata": {
    "collapsed": true
   },
   "outputs": [],
   "source": []
  },
  {
   "cell_type": "markdown",
   "metadata": {},
   "source": [
    "# Break"
   ]
  },
  {
   "cell_type": "markdown",
   "metadata": {},
   "source": [
    "# IV. Reading Data with Python\n",
    "\n",
    "* When we read in a file we need to store the data in some way. There are many methods and structures to accomplish this.  \n",
    "\n",
    "* The best way will be something you are comfortable with and fits the data.  Chances are you'll develop one way you're comfortable with that works with most of the data you work with."
   ]
  },
  {
   "cell_type": "markdown",
   "metadata": {},
   "source": [
    "## Exercise: Opening and Reading Files\n",
    "\n",
    "* There are two methods of opening a file: **`open()`** and **`close()`** *OR* **`with`**.\n",
    "\n",
    "* We will go over both in the next 2 exercies. We will work with the **`with`** statement the most.\n",
    "\n",
    "* In both cases, start with the file path as a string.  In this case, we're doing a relative path because the file is a sibling to this notebook in the file system.\n",
    "\n",
    "For more commands and options: https://docs.python.org/2/tutorial/inputoutput.html#reading-and-writing-files"
   ]
  },
  {
   "cell_type": "code",
   "execution_count": null,
   "metadata": {
    "collapsed": false
   },
   "outputs": [],
   "source": [
    "filename_relative = 'Data/CSV/chicagoCSA.csv'\n",
    "filename_full = 'C:/Users/jvwhit/Documents/IPythonNotebooks/ILGISA/Data/CSV/chicagoCSA.csv'\n",
    "\n",
    "print filename_relative\n",
    "print filename_full\n",
    "\n",
    "# Mac full paths will look different!\n",
    "#filename_full = '/Users/wickes1/Documents/wickes-ilgisa-workshop-2015/chicacoCSA.csv'\n"
   ]
  },
  {
   "cell_type": "markdown",
   "metadata": {},
   "source": [
    "Now we need to make our file object.\n",
    "\n",
    "We will print the result to see what it looks like"
   ]
  },
  {
   "cell_type": "code",
   "execution_count": null,
   "metadata": {
    "collapsed": false
   },
   "outputs": [],
   "source": [
    "f = open(filename_relative, 'rU')\n",
    "\n",
    "print f\n"
   ]
  },
  {
   "cell_type": "markdown",
   "metadata": {},
   "source": [
    "Notice that it indicating that it is an open file (the object)\n",
    "\n",
    "Now we can read in the file. We can see the raw text values using a **`print`** statment"
   ]
  },
  {
   "cell_type": "code",
   "execution_count": null,
   "metadata": {
    "collapsed": false
   },
   "outputs": [],
   "source": [
    "data = f.read()\n",
    "\n",
    "print data"
   ]
  },
  {
   "cell_type": "markdown",
   "metadata": {},
   "source": [
    "There are many ways to read in files and well worth some investigation time. But there's a better way to read in a file based on lines.\n",
    "\n",
    "**`readlines()`** is a very common method for reading in individual lines of a file.\n",
    "\n",
    "Let's take a moment here to comment on the notation system happening.  \n",
    "\n",
    "We can see that **`f`** is becoming our open file object.  This object is waiting to be read.  \n",
    "\n",
    "We can then pick whichever reading method we want to perform on it, and then do so via **`f.methodname(<parameters>)`**.\n",
    "\n",
    "These methods are functions that we are calling on the objects. "
   ]
  },
  {
   "cell_type": "code",
   "execution_count": null,
   "metadata": {
    "collapsed": false
   },
   "outputs": [],
   "source": [
    "f = open(filename_relative, 'rU')\n",
    "\n",
    "data = f.readlines()\n",
    "\n",
    "print data"
   ]
  },
  {
   "cell_type": "markdown",
   "metadata": {},
   "source": [
    "Is the output very readable? Let's make it more readable usinga **`for`** statement"
   ]
  },
  {
   "cell_type": "code",
   "execution_count": null,
   "metadata": {
    "collapsed": false
   },
   "outputs": [],
   "source": [
    "for e in data:\n",
    "    print e"
   ]
  },
  {
   "cell_type": "markdown",
   "metadata": {},
   "source": [
    "Check out those extra blank lines.  This can be an artifact from coming in from Excel.  \n",
    "\n",
    "When you see this, use **`strip()`** to clean things up.  This function cleans off any white space characters from both the left and the right of a line of text.  \n",
    "\n",
    "There are also **`rstrip()`** and **`lstrip()`** in case those would be useful."
   ]
  },
  {
   "cell_type": "code",
   "execution_count": null,
   "metadata": {
    "collapsed": false
   },
   "outputs": [],
   "source": [
    "for e in data:\n",
    "    print e.strip()"
   ]
  },
  {
   "cell_type": "markdown",
   "metadata": {},
   "source": [
    "## Exercise: Opening and Reading CSV Files with the CSV Module"
   ]
  },
  {
   "cell_type": "markdown",
   "metadata": {},
   "source": [
    "### What is a module?\n",
    "\n",
    "* Extensions that can be imported and used in Python scripts to expand the buil-in capabilities\n",
    "* Contain pre-written code to help out with specialized tasks and defines functions, classes and variables for those tasks\n",
    "* Also allows you to logically organize your Python code\n",
    "* Single file consisting of Python code and also include runnable code\n",
    "* Modules are imported into a script using the **`import`** statement\n",
    "* Many times you need to download and install new modules\n",
    "\n",
    "\n",
    "### What is the CSV module?\n",
    "\n",
    "* It knows what a CSV is, how the text should behave or look, and how it should be sanitized, etc.\n",
    "* It brings in helper functions for working with CSV files to help the programmer save time\n",
    "* When opening a CSV file, CSV module is imported using the **`import csv`** statement\n",
    "* You *can* do this yourself.........but you don't want to. Just use the CSV module!\n",
    "* Luckily, the CSV mocule is included in the ArcGIS for Desktop Python installation\n"
   ]
  },
  {
   "cell_type": "markdown",
   "metadata": {},
   "source": [
    "After we **`import csv`**, we can now call the csv module functions by appending them to **`csv`**.\n",
    "\n",
    "The two core functions you'll use are:\n",
    "\n",
    "* **`csv.reader(file object)`** to create a reading object\n",
    "* **`csv.writer(file object`** to create a writing object.\n",
    "\n",
    "When we write files we use these two functions:\n",
    "\n",
    "* **`writerow(row)`** to write a single row\n",
    "* **`writerows(list of lists)`** to write many rows\n",
    "\n",
    "Below are some basic formulas for reading in data.  Many of these formulas came from chapter 6 of the [Python Cookbook (third edition)](http://chimera.labs.oreilly.com/books/1230000000393).  Not all of this syntax will make sense, but just treat it as a formula for now.  Things will make more sense as you learn more about Python.\n",
    "\n",
    "You can read the chapter for free here:  http://chimera.labs.oreilly.com/books/1230000000393/ch06.html"
   ]
  },
  {
   "cell_type": "code",
   "execution_count": null,
   "metadata": {
    "collapsed": false
   },
   "outputs": [],
   "source": [
    "import csv\n",
    "\n",
    "with open(filename_relative, 'rU') as file_in:\n",
    "    file_in = csv.reader(file_in)\n",
    "    headers = next(file_in)\n",
    "    data = []\n",
    "    for line in file_in:\n",
    "        data.append(line)    \n",
    "    \n",
    "print 'Headers:', headers\n",
    "print 'Data:', data\n",
    "    \n",
    "    # What data type are you seeing with the \"print 'Data:', data\" statment?"
   ]
  },
  {
   "cell_type": "code",
   "execution_count": null,
   "metadata": {
    "collapsed": false
   },
   "outputs": [],
   "source": [
    "for l in data:\n",
    "    print l"
   ]
  },
  {
   "cell_type": "markdown",
   "metadata": {
    "collapsed": true
   },
   "source": [
    "Now this looks like something we can start dealing with.  Each row is coming in as a list, with each cell value as an element within that Nth corresponding position.  Let's do some quick sanity checking."
   ]
  },
  {
   "cell_type": "code",
   "execution_count": null,
   "metadata": {
    "collapsed": false
   },
   "outputs": [],
   "source": [
    "for row in data:\n",
    "    print len(row)\n"
   ]
  },
  {
   "cell_type": "markdown",
   "metadata": {},
   "source": [
    "Is each row the same length?\n",
    "\n",
    "If it looks good, we can now loop through and get all the city names...\n"
   ]
  },
  {
   "cell_type": "code",
   "execution_count": null,
   "metadata": {
    "collapsed": false
   },
   "outputs": [],
   "source": [
    "for row in data:\n",
    "    print row[1]\n"
   ]
  },
  {
   "cell_type": "markdown",
   "metadata": {},
   "source": [
    "Again, there are many ways to get at the data from a CSV file.  Take some time to experiment with a few other techniques.  You'll find your comfort zone.  What I've shown here is one of the simplest possible mechanisms.  There are more advanced methods for more complex data."
   ]
  },
  {
   "cell_type": "markdown",
   "metadata": {},
   "source": [
    "# Break"
   ]
  },
  {
   "cell_type": "markdown",
   "metadata": {},
   "source": [
    "# V. Creating Scripts with Python"
   ]
  },
  {
   "cell_type": "markdown",
   "metadata": {},
   "source": [
    "### Switching gears...\n",
    "\n",
    "At this point we've looked at how to work with lists and read in a CSV into a list of lists.  This means that we can get into a CSV file and access data columns within it.  Let's take another file with free text city names.  Let's work on writing a script that will loop through all the city names, lookup the coordinates for those places, and then output the results into a new file.\n",
    "\n",
    "We can make a rough outline of our program...this is called **'pseudo code'**:\n",
    "\n",
    "    * Read in the file\n",
    "    * Access the city names\n",
    "    * Run city names through our OpenStreet Map geocoding tool called `Nominatim`\n",
    "    * Save those geocoding latitude and logitude values to new fields/columns\n",
    "    * Output a new file\n",
    "\n",
    "We already know how to do the first two tasks:  open the file and get to the city names.  What we need to work on next is a way to run those values through the Open Street Map nominatim tool."
   ]
  },
  {
   "cell_type": "markdown",
   "metadata": {},
   "source": [
    "## Exercise: Playing with `nominatim`"
   ]
  },
  {
   "cell_type": "markdown",
   "metadata": {},
   "source": [
    "### Installation\n",
    "\n",
    "* Download the instal file here: https://pypi.python.org/pypi/nominatim/0.1\n",
    "* Admin Privleges:\n",
    "  * Download and install the .exe file\n",
    "  * You may get some warning messages...Just click ok, and things should work.\n",
    "* No Admin Privileges:\n",
    "  * Download the 'nominatim-0.1' folder from https://uofi.box.com/ILGISA-Python\n",
    "  * Copy the 'nominatim' and 'nominatim.egg-info' folders to 'C:\\Python27\\ArcGIS10.X\\Lib\\site-packages' *replace the x with your version!!*\n",
    "* Note about ArcGIS 32 bit vs. 64 bit geoprocessing\n",
    "\n",
    "Before we can plug this tool into a script we need to take some time getting to know how it works.  The best place to start is to replicate what's in the documentation: https://github.com/damianbraun/nominatim"
   ]
  },
  {
   "cell_type": "markdown",
   "metadata": {},
   "source": [
    "### Test that Nominatim was installed correctly"
   ]
  },
  {
   "cell_type": "code",
   "execution_count": null,
   "metadata": {
    "collapsed": false
   },
   "outputs": [],
   "source": [
    "from nominatim import Nominatim, NominatimReverse #import the modules\n",
    "\n",
    "nom = Nominatim() # instantiation of a Nominatim object.\n",
    "\n",
    "result = nom.query('Springfield, IL') # act on this object, by doing a query\n",
    "\n",
    "print result\n"
   ]
  },
  {
   "cell_type": "markdown",
   "metadata": {
    "collapsed": true
   },
   "source": [
    "That's a bunch of stuff!  We need to dig in to see the data structure though.  Here we're going to meet the other container type: the dictionary.\n",
    "\n",
    "First, let's see what it is returning to us."
   ]
  },
  {
   "cell_type": "code",
   "execution_count": null,
   "metadata": {
    "collapsed": false
   },
   "outputs": [],
   "source": [
    "print type(result)"
   ]
  },
  {
   "cell_type": "markdown",
   "metadata": {},
   "source": [
    "So this is a list, and we can see that by the opening and closing square brackets.  Let's look at an easy way to see what's inside of a list."
   ]
  },
  {
   "cell_type": "code",
   "execution_count": null,
   "metadata": {
    "collapsed": false,
    "scrolled": true
   },
   "outputs": [],
   "source": [
    "# how long is it?\n",
    "\n",
    "print len(result)"
   ]
  },
  {
   "cell_type": "markdown",
   "metadata": {},
   "source": [
    "So there are 20 things in here...\n",
    "\n",
    "Llet's look at this using how we know to loop through lists"
   ]
  },
  {
   "cell_type": "code",
   "execution_count": null,
   "metadata": {
    "collapsed": false,
    "scrolled": true
   },
   "outputs": [],
   "source": [
    "for each in result:\n",
    "    print each\n"
   ]
  },
  {
   "cell_type": "markdown",
   "metadata": {},
   "source": [
    "But what are these things?"
   ]
  },
  {
   "cell_type": "code",
   "execution_count": null,
   "metadata": {
    "collapsed": false
   },
   "outputs": [],
   "source": [
    "for each in result:\n",
    "    print type(each)"
   ]
  },
  {
   "cell_type": "markdown",
   "metadata": {},
   "source": [
    "### Working Dictionaries\n",
    "\n",
    "**`dict`**s are container-like objects but don't work at all like **`list`**s.  \n",
    "\n",
    "**`dict`**s are key/value pairs, almost like mini databases.  For example, we know that cities have properties like latitude and longitude.  Instead of storing these in specific positions we can name those values so we can look them up directly.\n",
    "\n",
    "For example, we could say this:"
   ]
  },
  {
   "cell_type": "code",
   "execution_count": null,
   "metadata": {
    "collapsed": false
   },
   "outputs": [],
   "source": [
    "springfield = {'lat': '39.7989763', 'lon': '-89.6443688'}\n",
    "print springfield"
   ]
  },
  {
   "cell_type": "markdown",
   "metadata": {},
   "source": [
    "### Let's look a this syntax.  \n",
    "\n",
    "A `dict` is stored withthin a pair of curly brackets {}.  Keys and values are separated by a colon, with the key on the left and the value on the right.  The **`springfield`** dictionary above has two key/value pairs.\n",
    "\n",
    "We can access these values with a notation somewhat similar to looking things up in a list.  The name of the key goes inside square brackets after the name of the variable.  Note that I did have to include the quotes for the key names because they are strings.  You can use any object as a key, but remember that you do need to look it up later.\n",
    "\n",
    "Ever used JSON or need to?  You'll interact with that data format much like working with a Python dictionary."
   ]
  },
  {
   "cell_type": "code",
   "execution_count": null,
   "metadata": {
    "collapsed": false
   },
   "outputs": [],
   "source": [
    "print springfield['lat']"
   ]
  },
  {
   "cell_type": "code",
   "execution_count": null,
   "metadata": {
    "collapsed": false
   },
   "outputs": [],
   "source": [
    "print springfield['lon']"
   ]
  },
  {
   "cell_type": "markdown",
   "metadata": {},
   "source": [
    "Now that we know a little bit better about how to read a dictionary, we can take a closer look at the first result coming in for Springfield.\n",
    "\n",
    "Remember the index notation to look up items in a list."
   ]
  },
  {
   "cell_type": "code",
   "execution_count": null,
   "metadata": {
    "collapsed": false,
    "scrolled": true
   },
   "outputs": [],
   "source": [
    "print result[0]\n",
    "\n",
    "first_result = result[0]"
   ]
  },
  {
   "cell_type": "markdown",
   "metadata": {},
   "source": [
    "Can we make this more readable?\n"
   ]
  },
  {
   "cell_type": "code",
   "execution_count": null,
   "metadata": {
    "collapsed": false
   },
   "outputs": [],
   "source": [
    "for each in first_result:\n",
    "    print each\n"
   ]
  },
  {
   "cell_type": "markdown",
   "metadata": {},
   "source": [
    "So that will print the key names, can we get the values?\n",
    "\n",
    "Note that I don't have to put key in quotes because it is holding the full object value"
   ]
  },
  {
   "cell_type": "code",
   "execution_count": null,
   "metadata": {
    "collapsed": false
   },
   "outputs": [],
   "source": [
    "for key in first_result:\n",
    "    print key, \": \", first_result[key]"
   ]
  },
  {
   "cell_type": "markdown",
   "metadata": {},
   "source": [
    "This is helpful.  We can see the key values on the left along with the example values next to that.  Looks like we can get the lat and lon values from keys called `'lat'` and `'lon'`.  Let's try that now."
   ]
  },
  {
   "cell_type": "code",
   "execution_count": null,
   "metadata": {
    "collapsed": false
   },
   "outputs": [],
   "source": [
    "print first_result['lat'], first_result['lon']"
   ]
  },
  {
   "cell_type": "markdown",
   "metadata": {},
   "source": [
    "The nominatim package will return a list of results for your text query, with the best hit being the first in the list.  Once we have this first result, we can extract information from it.  Let's put this all together."
   ]
  },
  {
   "cell_type": "code",
   "execution_count": null,
   "metadata": {
    "collapsed": false
   },
   "outputs": [],
   "source": [
    "first = result[0]\n",
    "name = first['display_name']\n",
    "lat = first['lat']\n",
    "lon = first['lon']\n",
    "\n",
    "print name\n",
    "print lat, lon\n"
   ]
  },
  {
   "cell_type": "markdown",
   "metadata": {},
   "source": [
    "## Exercise: Working with Functions\n",
    "\n",
    "But what happens when we want to do this systematically?  Say, we have a list of 800 city names and we want to gather the lat/lon results for them all?  What will really help us is writing a function.  These allow us to custom define a series of commands that we can call as needed.  Functions can take input and return output."
   ]
  },
  {
   "cell_type": "code",
   "execution_count": null,
   "metadata": {
    "collapsed": true
   },
   "outputs": [],
   "source": [
    "def get_lat_lon(nom_results):\n",
    "    first = nom_results[0]  #get the first result\n",
    "    lat = first['lat']\n",
    "    lon = first['lon']\n",
    "    return {'lat': lat, 'lon': lon} \n"
   ]
  },
  {
   "cell_type": "markdown",
   "metadata": {},
   "source": [
    "So we can throw the query command into this function and get what we want\n"
   ]
  },
  {
   "cell_type": "code",
   "execution_count": null,
   "metadata": {
    "collapsed": false
   },
   "outputs": [],
   "source": [
    "get_lat_lon(nom.query(\"springfield, IL\"))\n"
   ]
  },
  {
   "cell_type": "markdown",
   "metadata": {},
   "source": [
    "The data are being returned as a dictionary, so we can access the values by name.\n",
    "\n",
    "Let's put all this together into a basic script."
   ]
  },
  {
   "cell_type": "code",
   "execution_count": null,
   "metadata": {
    "collapsed": false
   },
   "outputs": [],
   "source": [
    "from nominatim import Nominatim\n",
    "\n",
    "def get_lat_lon(nom_results):\n",
    "    first = nom_results[0]  #get the first result\n",
    "    lat = first['lat']\n",
    "    lon = first['lon']\n",
    "    return {'lat': lat, 'lon': lon}\n",
    "\n",
    "cities = [\"Champaign, IL\", \"Springfield, IL\", \"Bloomington, IL\"]\n",
    "\n",
    "nom = Nominatim()\n",
    "\n",
    "for city in cities:\n",
    "    lookup = get_lat_lon(nom.query(city))\n",
    "    print lookup['lat'], lookup['lon']"
   ]
  },
  {
   "cell_type": "markdown",
   "metadata": {
    "collapsed": true
   },
   "source": [
    "This is actually an entire Python script.  It is still very simple because it is just looping over a small group of cities and plainly printing out the results, but hopefully you can see where we would add in code to read in a file and write out an output.\n",
    "\n",
    "**Note:** The instantiation of nom is happening outside the function...which is kind of bad practice.  However, reinstatiating it for every query significantly slows down the process.  This is a case where we made a tweak to optimize the code for speed.\n"
   ]
  },
  {
   "cell_type": "markdown",
   "metadata": {},
   "source": [
    "## Exercise: Writing Out Files\n",
    "\n",
    "We've got some output now that we're just printing to our console, but we'd like to write it out to a file so we can save our results and read them into something like ArcGIS.  \n",
    "\n",
    "We're going to look at two different ways to write out these results:\n",
    "\n",
    "* First is the pretty raw method\n",
    "* Second is the CSV module method.  \n",
    "\n",
    "We can use our script again as a base, but we will add in a way to store all the results "
   ]
  },
  {
   "cell_type": "markdown",
   "metadata": {},
   "source": [
    "### The 'Pretty Raw Method'"
   ]
  },
  {
   "cell_type": "code",
   "execution_count": null,
   "metadata": {
    "collapsed": false
   },
   "outputs": [],
   "source": [
    "from nominatim import Nominatim\n",
    "\n",
    "def get_lat_lon(nom_results):\n",
    "    first = nom_results[0]  #get the first result\n",
    "    lat = first['lat']\n",
    "    lon = first['lon']\n",
    "    return {'lat': lat, 'lon': lon}\n",
    "\n",
    "cities = [\"Champaign, IL\", \"Springfield, IL\", \"Bloomington, IL\"]\n",
    "\n",
    "nom = Nominatim()\n",
    "\n",
    "root_folder = 'C:/Users/jvwhit/Documents/IPythonNotebooks/ILGISA/Data/CSV/' # need this for working in the IDE\n",
    "\n",
    "output = open(root_folder + 'latlonresults_raw.txt', 'wt') # note the use of 'wt' here, windows users might use 'w'\n",
    "\n",
    "headers = \"city\\tlat\\tlon\\n\" # manually putting in the tabs '\\t' and newline '\\n'\n",
    "\n",
    "output.write(headers) # writing the headers to the open file\n",
    "\n",
    "for city in cities:\n",
    "    lookup = get_lat_lon(nom.query(city))\n",
    "    line = city + \"\\t\" + lookup['lat'] + \"\\t\" + lookup['lon'] + \"\\n\" # creating the line contents\n",
    "    output.write(line) # writing the line to the file\n",
    "    \n",
    "output.close() # closing the file"
   ]
  },
  {
   "cell_type": "markdown",
   "metadata": {
    "collapsed": true
   },
   "source": [
    "This is a screenshot of the output file open in Word where we can see how the white space characters are formatted.  We can see that **`\\t`** turned into tabs and **`\\n`** turned into a newline.  Given that there are commas in the city name we need to use a delimiter other than a comma.  You'll want to customize this according to how you need to read in your data into the next program.\n",
    "\n",
    "<img src = \"writtenfileinword.png\" />\n",
    "\n",
    "This method of 1) open the file, 2) do the loop while writing, 3) closing the file can be valuable when you have very complex structures determining what is written or you are reading in stuff from other files.\n",
    "\n",
    "### The 'CSV Module Method'\n",
    "\n",
    "For the other example we'll use another recipe from the Python Cookbook (http://chimera.labs.oreilly.com/books/1230000000393/ch06.html) to make this happen.\n",
    "\n",
    "A major disadvantage to the previous method is that it does not sanitize the data in any way.  For example, we know that none of the city names have a **`\\t`** character within them because we can see them all.  However, if you are pulling in data from an external source and have thousands of records it isn't always possible to check what the values are.  \n",
    "\n",
    "Additionally, sometimes the destination for this output file will require a specific delimiter, and that might be a common character for the data that you are working with.  Therefore, it would be nice to use a module that automatically handled these cases for us.  The **`csv writer`** tools will automatically handle this.\n",
    "\n",
    "There are many ways to use the CSV module to write a file.  This is just one way.  Again, I encourage you to explore and find a recipe that works well with your own data and methods.  The method shown here will take lists and write those out such that each element in a list belongs to a different column."
   ]
  },
  {
   "cell_type": "code",
   "execution_count": null,
   "metadata": {
    "collapsed": false
   },
   "outputs": [],
   "source": [
    "from nominatim import Nominatim\n",
    "import csv\n",
    "\n",
    "def get_lat_lon(nom_results):\n",
    "    first = nom_results[0]  #get the first result\n",
    "    lat = first['lat']\n",
    "    lon = first['lon']\n",
    "    return {'lat': lat, 'lon': lon}\n",
    "\n",
    "cities = [\"Champaign, IL\", \"Springfield, IL\", \"Bloomington, IL\"]\n",
    "\n",
    "nom = Nominatim()\n",
    "\n",
    "headers = [\"city\", \"lat\", \"lon\"]\n",
    "\n",
    "result_rows = []\n",
    "\n",
    "for city in cities:\n",
    "    lookup = get_lat_lon(nom.query(city))\n",
    "    line = [city, lookup['lat'], lookup['lon']] # creating the line contents\n",
    "    result_rows.append(line)\n",
    "    \n",
    "# at this point I've stored all my data locally and I just need to write it out.\n",
    "# This is not ideal when dealing with LARGE amounts of data.\n",
    "# Try the previous method if you are getting out of memory errors.\n",
    "\n",
    "root_folder = 'C:/Users/jvwhit/Documents/IPythonNotebooks/ILGISA/Data/CSV/' # need this for working in the IDE\n",
    "\n",
    "with open(root_folder + 'latlonresults_csvmodule.csv', 'wt') as latlonout: # note the use of 'wt' here, windows users might use 'w'\n",
    "    latlonout = csv.writer(latlonout) # creates a writing object\n",
    "    latlonout.writerow(headers) # writes out one line: the headers\n",
    "    latlonout.writerows(result_rows) # writes out all the lists within this list"
   ]
  },
  {
   "cell_type": "markdown",
   "metadata": {
    "collapsed": true
   },
   "source": [
    "We can look at this file now in Word.\n",
    "\n",
    "<img src = \"latlonresultscsvmoduleinword.png\" />\n",
    "\n",
    "Looks a little different.  The quotes around the city name were automatically inserted by the CSV module to account for that value having the literal value of the delimiter character.  Both of these file open up in Excel the same.\n",
    "\n",
    "Now the only piece missing from this script is reading in city names from a file.  Let's put all this together.  We're going to start with an existing data file, read in the location information, and output a new version of this file with the addition of the the coordinates data."
   ]
  },
  {
   "cell_type": "markdown",
   "metadata": {},
   "source": [
    "## Exercise: Create a Script to Read and Write CSV Files\n",
    "\n",
    "The first step of any process here is to make an assessment of the file that we are working with.  **`JeopardyContestants_Illinois.csv`** contains data on 409 Jeopardy! players from 1984-2014.  We can view it in excel to get a quick sense of things...\n",
    "\n",
    "<img src = \"exceljeopardypreview.png\"/>\n",
    "\n",
    "So let's use what we've learned to open it up and explore things."
   ]
  },
  {
   "cell_type": "code",
   "execution_count": null,
   "metadata": {
    "collapsed": false
   },
   "outputs": [],
   "source": [
    "import csv\n",
    "\n",
    "root_folder = 'C:/Users/jvwhit/Documents/IPythonNotebooks/ILGISA/Data/CSV/' # need this for working in the IDE\n",
    "\n",
    "source = root_folder + 'JeopardyContestants_Illinois.csv'\n",
    "\n",
    "playerdata = [] # creates and empty list to hold the players' data\n",
    "\n",
    "with open(source, 'rt') as file_in:\n",
    "    file_in = csv.reader(file_in) # converts 'file_in' to a 'csv.reader' object\n",
    "    headers = next(file_in) # reads the first line\n",
    "    for row in file_in: # the file 'curser' now starts at the second row\n",
    "        playerdata.append(row)\n",
    "        \n",
    "print 'Headers:', headers # so these are our column names\n",
    "print 'Rows:', len(playerdata) # how many data rows we have\n"
   ]
  },
  {
   "cell_type": "markdown",
   "metadata": {},
   "source": [
    "How can we get all the city names?  Pretty easily."
   ]
  },
  {
   "cell_type": "code",
   "execution_count": null,
   "metadata": {
    "collapsed": false
   },
   "outputs": [],
   "source": [
    "cityindex = headers.index('loc')\n",
    "\n",
    "for player in playerdata[:10]: # handy trick to just get the first 10 values\n",
    "    print player[cityindex]\n"
   ]
  },
  {
   "cell_type": "markdown",
   "metadata": {},
   "source": [
    "But how many cities are there?  For this we need to: \n",
    "\n",
    "1. Collect all the city names\n",
    "2. Determine how many unique values there are\n",
    "\n",
    "This is actually a pretty straight forward task.  Python has an object type called **`set`**, which is sort of like a list, but has unique properties and tools based on set theory.  You can read more about this data structure in the documentation (https://docs.python.org/2/tutorial/datastructures.html#sets). **`set`**s make list manipulation very very simple with some basic application of the set theory.  Remember to look for the green boxes in the documentation for examples.\n",
    "\n",
    "For those of you who know SQL, there are already some **`set`** theory tools implemented.  Remember the Venn diagrams all over the documentation (refresher: http://seanmehan.globat.com/blog/2011/12/20/set-theory-and-sql-concepts/)?  The **`set`** data structure gives you the power to do inner/outer join-like activities."
   ]
  },
  {
   "cell_type": "code",
   "execution_count": null,
   "metadata": {
    "collapsed": false
   },
   "outputs": [],
   "source": [
    "cityindex = headers.index('loc')\n",
    "\n",
    "allcities = [] # creates and empty list to hold the all city names\n",
    "\n",
    "for player in playerdata:\n",
    "    allcities.append(player[cityindex])\n",
    "    \n",
    "print len(allcities) # just checking that we have the same number as we did for players\n",
    "\n",
    "print allcities[:10] # now checking that we have the same list of cities as we did last time\n"
   ]
  },
  {
   "cell_type": "markdown",
   "metadata": {},
   "source": [
    "Now we can use the set tools to easily get a list of the unique values\n",
    "\n",
    "When we have **`allcities`** populated with every city seen within the data, we can do several things.  \n",
    "\n",
    "If we cast it as a **`set`** object it will become a set of just the unique values (since a set cannot contain duplicates)."
   ]
  },
  {
   "cell_type": "code",
   "execution_count": null,
   "metadata": {
    "collapsed": false
   },
   "outputs": [],
   "source": [
    "unique_cities = set(allcities)\n",
    "\n",
    "print len(unique_cities)\n",
    "print unique_cities"
   ]
  },
  {
   "cell_type": "markdown",
   "metadata": {},
   "source": [
    "So there are 134 unique cities in this data file.  Neat!  Maybe we also want to count them.  Why not, right?\n",
    "\n",
    "Python has a great tool (as discussed in the Python Cookbook: http://chimera.labs.oreilly.com/books/1230000000393/ch01.html#_determining_the_most_frequently_occurring_items_in_a_sequence) called **`Counter()`**\n",
    "\n",
    "When you pass **`Counter`** a list, it will return a **`Counter`** object that contains the unique values and tallies for each. **`Counter`** objects can easily be recast back to a dictionary object for further manipulation.  Let's look at it in action."
   ]
  },
  {
   "cell_type": "code",
   "execution_count": null,
   "metadata": {
    "collapsed": false
   },
   "outputs": [],
   "source": [
    "from collections import Counter # you need to import it, and note the capitalization\n",
    "\n",
    "city_count = Counter(allcities)\n",
    "\n",
    "print city_count\n",
    "\n",
    "# cool! now let's make it into a dictionary\n",
    "\n",
    "city_count = dict(city_count)\n",
    "\n",
    "# and as a byproduct we know that the keys are all unique\n",
    "\n",
    "unique_cities = city_count.keys() \n",
    "\n",
    "# .keys() actually does work on a Counter object, but you might need it to be a dict later\n",
    "\n",
    "print 'Number of unique cities:',len(unique_cities)\n",
    "print unique_cities"
   ]
  },
  {
   "cell_type": "markdown",
   "metadata": {},
   "source": [
    "### Finalizing the script\n",
    "\n",
    "Now that we have all the cities, we need to make a choice about how to do the lookup.  We don't want to hit the OSM service too many times, but the difference here might not be too bad considering the small volume (~400) cities total that we need to hit.  This is a decision that you'll need to investigate and make depending on the size, volume, and time resources that you have with whatever service you are using.\n",
    "\n",
    "For now, we'll just explore how to look up every value and add it to the data set.\n",
    "\n",
    "To start, we need to plan out what we want to accomplish.\n",
    "\n",
    "  1.  Read in the data.\n",
    "  2.  Find the city.\n",
    "  3.  Look the coordinates up with nominatim.\n",
    "  4.  Add those coordinates to relevant row.\n",
    "  5.  Write out the file with the new data.\n",
    "\n",
    "Our goal is to preserve the current data and add the new data.  We can start with the script that we already have in place for reading in the data.  We'll then add pieces that we've developed in previous sections."
   ]
  },
  {
   "cell_type": "code",
   "execution_count": null,
   "metadata": {
    "collapsed": false
   },
   "outputs": [],
   "source": [
    "import csv\n",
    "from nominatim import Nominatim\n",
    "import copy # we'll talk about this one in a bit!\n",
    "\n",
    "# bring in the function we wrote for looking up the coordinates\n",
    "def get_lat_lon(nom_results):\n",
    "    if len(nom_results) == 0:\n",
    "        lat = ''\n",
    "        lon = ''\n",
    "    else:\n",
    "        first = nom_results[0]  #get the first result\n",
    "        lat = first['lat']\n",
    "        lon = first['lon']\n",
    "    return {'lat': lat, 'lon': lon}\n",
    "\n",
    "# instantiate the Nominatim object\n",
    "nom = Nominatim()\n",
    "\n",
    "root_folder = 'C:/Users/jvwhit/Documents/IPythonNotebooks/ILGISA/Data/CSV/' # need this for working in the IDE\n",
    "\n",
    "source = root_folder + 'JeopardyContestants_Illinois.csv'\n",
    "\n",
    "# empty container to hold the player data\n",
    "playerdata = []\n",
    "\n",
    "# read in the file and populate the playerdata list\n",
    "with open(source, 'r') as file_in:\n",
    "    file_in = csv.reader(file_in)\n",
    "    headers = next(file_in) # reads the first line\n",
    "    for row in file_in: # the file 'curser' now starts at the second row\n",
    "        playerdata.append(row)\n",
    "\n",
    "print source, \"is read.\"\n",
    "# So we have the data!\n",
    "\n",
    "cityindex = headers.index('loc')\n",
    "\n",
    "# making another container to hold the new data\n",
    "\n",
    "playerdata_withcoords = []\n",
    "\n",
    "print \"Getting coordinates.\"\n",
    "\n",
    "for player in playerdata:\n",
    "    p_with_coords = player[:] # empty container for the new line of data\n",
    "    # the [:] notation is to make a deep copy\n",
    "    city = player[cityindex]\n",
    "    nom_results = nom.query(city)\n",
    "    coords = get_lat_lon(nom_results)\n",
    "    p_with_coords.append(coords['lat'])\n",
    "    p_with_coords.append(coords['lon'])\n",
    "    playerdata_withcoords.append(p_with_coords) # add our new row to the main store\n",
    "\n",
    "# should now look like \n",
    "# ['3513', 'Umiko Post', '2002', 'Peoria, Illinois', '2', '0', 'illinois', \n",
    "#         '', u'40.6938609', u'-89.5891008']\n",
    "    \n",
    "# now we need to make the new headers\n",
    "print \"Got all coordinates.\"\n",
    "new_headers = headers[:] # again we need to do a deep copy here\n",
    "\n",
    "# looking back to our code we added lat then lon\n",
    "\n",
    "new_headers.append('lat')\n",
    "new_headers.append('lon')\n",
    "\n",
    "# so we have our headers and we have our data, time to write it out!\n",
    "# note the 'wb' parameter. For windows, this is needed otherwise an extra line break will be added\n",
    "\n",
    "with open(root_folder + 'JeopardyContestants_LatLon.csv', 'wb') as file_out:\n",
    "    file_out = csv.writer(file_out)\n",
    "    file_out.writerow(new_headers)\n",
    "    file_out.writerows(playerdata_withcoords)\n",
    "\n",
    "print \"CSV file is complete.\""
   ]
  },
  {
   "cell_type": "markdown",
   "metadata": {},
   "source": [
    "Looking at the final output of this script in Excel, we can see that our original data were preserved with just the lat and lon added at the end.\n",
    "\n",
    "<img src = \"finalout.png\"/>"
   ]
  }
 ],
 "metadata": {
  "kernelspec": {
   "display_name": "Python 2",
   "language": "python",
   "name": "python2"
  },
  "language_info": {
   "codemirror_mode": {
    "name": "ipython",
    "version": 2
   },
   "file_extension": ".py",
   "mimetype": "text/x-python",
   "name": "python",
   "nbconvert_exporter": "python",
   "pygments_lexer": "ipython2",
   "version": "2.7.5"
  }
 },
 "nbformat": 4,
 "nbformat_minor": 0
}
