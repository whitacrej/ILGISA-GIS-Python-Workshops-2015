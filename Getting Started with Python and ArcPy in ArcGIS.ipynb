{
 "cells": [
  {
   "cell_type": "markdown",
   "metadata": {},
   "source": [
    "# Getting Started with Python and ArcPy in ArcGIS\n",
    "\n",
    "**Description:**\n",
    "\n",
    "Building on Python Programming Basics for GIS Professionals but open to anyone with some programming experience, this workshop will expand on those skills to further use Python in ArcGIS. The workshop will focus on the ArcPy Python site package to expand geoprocessing capabilities with Python scripts. Participants will learn to build multiple standalone geoprocessing scripts covering different GIS tasks and workflows. The workshop will also cover how to create scripting tools in ArcGIS toolboxes for reuse and sharing. Participants will finish with the skills to explore more resources and options for utilizing Python in ArcGIS.\n",
    "\n",
    "**Specific Topics Include:**\n",
    "\n",
    "* Work with the ArcPy Python site package for ArcGIS\n",
    "* Convert ModelBuilder models to Python scripts\n",
    "* Build and share stand-alone Python script tools for automation\n",
    "* Learn tips and tricks for valid script syntax and error handling\n",
    "\n",
    "**Computing and Software Needs:**\n",
    "\n",
    "* Your own laptop; computers will not be provided.\n",
    "\n",
    "* Python IDE\n",
    "    * <a href=\"http://sourceforge.net/projects/pyscripter/files/\" target=\"_blank\">PyScripter</a> (v. 2.6.0 **32-bit**) \n",
    "    *NOTE:* The zip files contain portable versions of PyScripter.   No installation is needed. Just unzip the archive and start using PyScripter.\n",
    "    \n",
    "    * <a href=\"https://www.jetbrains.com/pycharm/download/\" target=\"_blank\">JetBrains PyCharm Community Edition</a> \n",
    "    *NOTE:* This IDE requires admin privileges to install.\n",
    "    \n",
    "    * IDLE is also shipped with ArcGIS for Desktop, so it can also be used.\n",
    "\n",
    "* <a href=\"https://pypi.python.org/pypi/nominatim/0.1\" target=\"_blank\">OSM Nominatim API module</a> *NOTE:* Windows users will need to download the Windows installer .exe file.\n",
    "\n",
    "* ArcGIS 10.1+ for Desktop (Standard or Advanced)\n",
    "\n",
    "\n",
    "**Instructors:**\n",
    "\n",
    "**James Whitacre**, GIS Specialist, University Library, University of Illinois at Urbana-Champaign\n",
    "\n",
    "As the GIS Specialist in the Main Library at the University of Illinois at Urbana-Champaign, Mr. Whitacre's primary role is to provide GIS consultation and research assistance for faculty, staff, and students. Additionally, he teaches a myriad of GIS workshops for beginner to advanced users and helps manage the Library's GIS data and software assets. He is also a central resource for the GIS community on campus to promote the use of GIS in research. Mr. Whitacre holds a Master of Science in Geography and was previously the GIS Manager for the Carnegie Museum of Natural History.\n",
    "\n",
    "**Zoe Zaloudek**, GIS Specialist, Illinois State Water Survey, Prairie Research Institute\n",
    "\n",
    "Zoe earned her B.A. in Geography at the University of Illinois-Urbana in 2005.  Shortly afterward, she began working at the Illinois State Water Survey (ISWS).  As a GIS Specialist there, her work is currently split between FEMA’s Risk Mapping, Assessment and Planning program (Risk MAP), and the Midwestern Regional Climate Center (MRCC).  She started using Model Builder in 2007 to better catalog and streamline workflows.  Upon starting with the MRCC in 2010, she realized the power of Python scripts and hasn’t looked back!\n"
   ]
  },
  {
   "cell_type": "markdown",
   "metadata": {},
   "source": [
    "# I. Review of *Python Programming Basics for GIS Professionals*\n",
    "\n",
    "* Quick review of morning workshop from Zoe\n",
    "* Review of minimal skills needed for those who didn't attend first session\n",
    "\n",
    "### Download exercise data from: https://uofi.box.com/ILGISA-Python\n",
    "\n",
    "### Open the ArcMap Document 'Illinois.mxd'"
   ]
  },
  {
   "cell_type": "markdown",
   "metadata": {},
   "source": [
    "## Exercise: Calculate Fields Using Python\n",
    "\n",
    "* Python and VB Script can be used to calculate fields\n",
    "* VB Script is the default, so Python needs to be set as the parser\n",
    "* Simple expressions use the Expression box\n",
    "* More complex calculations can use the Pre-Logic Script Code (window) or Code Block (tool) boxes\n",
    "* Can be difficult to debug and check for errors\n"
   ]
  },
  {
   "cell_type": "markdown",
   "metadata": {},
   "source": [
    "### Field Calculator Window\n",
    "\n",
    "We see that there is a field named 'AREA', but we don't know the units.\n",
    "\n",
    "#### 1. Open the Attribute Table for the 'Illinois Counties' Layer\n",
    "    Note the fields\n",
    "\n",
    "#### 2. Add a field with the following parameters:\n",
    "    Name: AreaTest\n",
    "    Type: Double\n",
    "\n",
    "#### 3. Right-click on the new field header and select Field Calculator\n",
    "\n",
    "#### 4. Double click a field to add it to the expression box\n",
    "    Make sure the VB Script radio button is selected\n",
    "\n",
    "#### 5. Select the Python radio button and add the same field\n",
    "    What is different?\n",
    "    Clear the expression box when done\n",
    "\n",
    "#### 6. Click on the 'About calculating fields' link at the bottom left\n",
    "    Notice the different examples\n",
    "    Find the 'Code smaples--geometry' section\n",
    "    These expressions can be used in lieu of the 'Calculate Geometry' window accessed through the attribute table\n",
    "    These expressions can also be used in the Calculate Field tool\n",
    "\n",
    "#### 6. Enter the following code in the expression box\n",
    "\n",
    "*Note: The following code is intended to be used to calculate an attribute table field in ArcGIS using the Field Calculator window or Calculate Field tool.\n"
   ]
  },
  {
   "cell_type": "code",
   "execution_count": null,
   "metadata": {
    "collapsed": true
   },
   "outputs": [],
   "source": [
    "# First try\n",
    "\n",
    "!Shape.area@SQUAREMILES!\n",
    "\n",
    "# How clase are the vales?\n",
    "\n",
    "# Now try\n",
    "\n",
    "!Shape.geodesicArea@SQUAREMILES!\n"
   ]
  },
  {
   "cell_type": "markdown",
   "metadata": {},
   "source": [
    "### Field Calculator Window\n",
    "\n",
    "Now we know the units, but we want to calculate the population density\n",
    "\n",
    "#### 1. Delete the 'AreaTest' field\n",
    "    Click 'Yes' on the warning\n",
    "\n",
    "#### 2. Add a field with the following parameters:\n",
    "    Name: DensityPerSqmi\n",
    "    Type: Double\n",
    "\n",
    "#### 3. Calculate the field using Python\n",
    "    Clear the expression box\n",
    "    Make sure the Python radio button is selected\n",
    "    Enter the code below"
   ]
  },
  {
   "cell_type": "code",
   "execution_count": null,
   "metadata": {
    "collapsed": true
   },
   "outputs": [],
   "source": [
    "!ACSTOTPOP! / !AREA!"
   ]
  },
  {
   "cell_type": "markdown",
   "metadata": {},
   "source": [
    "### Field Calculator Window\n",
    "\n",
    "Now we would like to have two more fields for a short name and a long name\n",
    "\n",
    "#### 1. Add two fields with the following parameters:\n",
    "    Field 1:\n",
    "        Name: NameLong\n",
    "        Type: Text\n",
    "        Length: 100\n",
    "    \n",
    "    Field 2:\n",
    "        Name: NameShort\n",
    "        Type: Text\n",
    "        Length: 50\n",
    "     \n",
    "#### 2. Calculate the fields using Python\n",
    "    Clear the expression box\n",
    "    Make sure the Python radio button is selected\n",
    "    Enter the code below\n"
   ]
  },
  {
   "cell_type": "code",
   "execution_count": null,
   "metadata": {
    "collapsed": true
   },
   "outputs": [],
   "source": [
    "# NameLong calculation\n",
    "\n",
    "!NAME! + \", \" !STATE_NAME!\n",
    "\n",
    "# NameShort calculation\n",
    "# Note the first parameter...what do you notice?\n",
    "\n",
    "!NAME!.replace(\" County\", \"\")"
   ]
  },
  {
   "cell_type": "markdown",
   "metadata": {},
   "source": [
    "### Field Calculator Window\n",
    "\n",
    "Now we would like to classify the median income levels\n",
    "\n",
    "#### 1. Add a field with the following parameters:\n",
    "    Name: IncomeLevels\n",
    "    Type: Text\n",
    "    Length: 50\n",
    "\n",
    "#### 2. Calculate the fields using Python\n",
    "    Clear the expression box\n",
    "    Make sure the Python radio button is selected\n",
    "    Check the 'Show Codeblock' box\n",
    "    Enter the code below\n",
    "    \n",
    "#### 3. When you have completed the calculation in the Field Calculator window, open the result from the Results window\n",
    "    How does this look different?"
   ]
  },
  {
   "cell_type": "code",
   "execution_count": null,
   "metadata": {
    "collapsed": true
   },
   "outputs": [],
   "source": [
    "# Pre-Logic Script Code:\n",
    "\n",
    "def income_level(medincome):\n",
    "    if medincome < 40000:\n",
    "        return \"Low Income\"\n",
    "    elif 40000 <= medincome < 50000:\n",
    "        return \"Medium Income\"\n",
    "    else:\n",
    "        return \"High Income\"\n",
    "\n",
    "\n",
    "# Expression:\n",
    "\n",
    "income_level(!ACSMEDHINC!)\n",
    "\n"
   ]
  },
  {
   "cell_type": "markdown",
   "metadata": {},
   "source": [
    "# II. Introduction to ArcPy"
   ]
  },
  {
   "cell_type": "markdown",
   "metadata": {},
   "source": [
    "### What is ArcPy?\n",
    "\n",
    "> ArcPy is a site package that builds on (and is a successor to) the successful arcgisscripting module. Its goal is to create the cornerstone for a useful and productive way to perform geographic data analysis, data conversion, data management, and map automation with Python.\n",
    "\n",
    "> This package provides a rich and native Python experience offering code completion (type a keyword and a dot to get a pop-up list of properties and methods supported by that keyword; select one to insert it) and reference documentation for each function, module, and class.\n",
    "\n",
    "> The additional power of using ArcPy within Python is the fact that Python is a general-purpose programming language. It is interpreted and dynamically typed and is suited for interactive work and quick prototyping of one-off programs known as scripts while being powerful enough to write large applications in. ArcGIS applications written with ArcPy benefit from the development of additional modules in numerous niches of Python by GIS professionals and programmers from many different disciplines.\n",
    "\n",
    "From <a href=\"http://desktop.arcgis.com/en/desktop/latest/analyze/arcpy/what-is-arcpy-.htm\" target=\"_blank\">http://desktop.arcgis.com/en/desktop/latest/analyze/arcpy/what-is-arcpy-.htm</a>\n",
    "\n",
    "### What is a Site Package?\n",
    "\n",
    "* Like a module, but contains a collections of modules, functions, and classes\n",
    "* Site packages and modules both add functionality to Python\n",
    "\n",
    "### Importing ArcPy\n",
    "\n",
    "* To work with ArcPy, you must import in your code\n",
    "* Once imported, you can now use all the modules, functions, tools, and classes\n"
   ]
  },
  {
   "cell_type": "code",
   "execution_count": null,
   "metadata": {
    "collapsed": false,
    "scrolled": true
   },
   "outputs": [],
   "source": [
    "import arcpy\n",
    "\n",
    "# Always import the ArcPy site package and other modules first\n",
    "\n",
    "# this may take a while if you are working outside of ArcGIS\n"
   ]
  },
  {
   "cell_type": "markdown",
   "metadata": {},
   "source": [
    "### Utilizing the ArcPy ArcGIS for Desktop Help Documentation\n",
    "\n",
    "\n",
    "* Desktop vs. Python window vs. Online documentation\n",
    "  * Desktop help can be opened through the Help menu or from the tool interface\n",
    "  * Python window help and syntax panel on the right (more on this later)\n",
    "  * http://desktop.arcgis.com/en/documentation/\n",
    "\n",
    "* Understanding geoprocessing tool help with Python and ArcPy\n",
    "  * Includes tool syntax and sample codes for the Python window and stand-alone scripts\n",
    "  * Includes detailed explanations of each parameter\n",
    "  \n",
    "* ArcPy help: http://desktop.arcgis.com/en/desktop/latest/analyze/arcpy/what-is-arcpy-.htm\n",
    "  * Contains help on functions and class not listed in the tool documentation\n",
    "  * Note the additional modules\n"
   ]
  },
  {
   "cell_type": "markdown",
   "metadata": {},
   "source": [
    "# III. Working with the Python Window in ArcMap"
   ]
  },
  {
   "cell_type": "markdown",
   "metadata": {},
   "source": [
    "### Open the Python Window in ArcMap\n",
    "\n",
    "* Replaces the Command Line for earlier releases of ArcGIS\n",
    "* Allows for running geoprocessing tools while also taking advantage of other Python modules and librarires\n",
    "* Can be used for single-line code (e.g. Used instead of ArcToolbox to access tools)\n",
    "* Can be used for testing syntax and longer, more complex scripts that might be used for automating workflows"
   ]
  },
  {
   "cell_type": "markdown",
   "metadata": {},
   "source": [
    "### Notes About the Python Window\n",
    "\n",
    "* Left side is the interactive Python interpreter panel\n",
    "  * This is where code is entered\n",
    "  * Note the three greater-than symbols (>>>)\n",
    "* Right side is the help and syntax panel\n",
    "* Code is generally executed one line at a time and displayed immediately. Exceptions include:\n",
    "  * Multi-line constucts (such as IF statements)\n",
    "  * Pressing SHIFT or CTRL + ENTER at the end of a line of code (you may need to hit ENTER a few times when you are ready to run the code)\n",
    "* Other Advanatages of the Python window\n",
    "  * Autocompletion\n",
    "  * Conditional and Iteration executuion\n",
    "  * Scripts can be saved and reused or opened with another Python IDE"
   ]
  },
  {
   "cell_type": "markdown",
   "metadata": {},
   "source": [
    "## Exercise: Describing Data in the ArcMap Python Window\n",
    "\n",
    "### Describing Data with ArcPy\n",
    "\n",
    "* Describing data allows to learn more about the data we are working with\n",
    "* Describe functions are useful when scripts may be dependent on the type of data being used\n",
    "* Good for controlling script flow and valdating parameters\n",
    "* Many property groups and some prperties exist for only some types\n",
    "\n",
    "See ArcGIS Documentation: http://desktop.arcgis.com/en/desktop/latest/analyze/arcpy-functions/describe.htm\n",
    "\n",
    "#### System Paths vs. Catalog paths\n",
    "\n",
    "* System paths are recognized by the Windows operating system\n",
    "  * Files in folders\n",
    "  * Ex. Shapefiles and rasters\n",
    "  \n",
    "* Catalog paths are only recognized by ArcGIS\n",
    "  * Used for feature classes and other data in geodatabases\n",
    "  * Geodatabases could be file (.gdb), personal (.mdb) or enterprise (.sde)\n",
    "  * Contain 2 parts:\n",
    "    * Workspace - could be the geodatabase root or a feture dataset\n",
    "    * Base name - the feature class, raster, or other file types that can be saved in geodatabases\n",
    "  * Requires the programmer to be aware of the context inwhich the path is being used\n",
    "\n",
    "Type, do not copy, the following code into the Python window\n",
    "\n",
    "*Note: This code is intended to only be run in the Python window of ArcMap*\n"
   ]
  },
  {
   "cell_type": "code",
   "execution_count": null,
   "metadata": {
    "collapsed": false
   },
   "outputs": [],
   "source": [
    "# Step 1:\n",
    "\n",
    "import arcpy\n",
    "\n",
    "file_name = r'C:\\Data\\CSV\\JeopardyContestants_LatLon.csv'\n",
    "print arcpy.Exists(file_name)\n",
    "\n",
    "# What kind of path is this? System or Catalog?\n",
    "# What is the result?\n",
    "\n",
    "# Try again, this time, but type the up arrow to reload the last code\n",
    "# Replace the '...' with the location where you placed your downloaded data\n",
    "# I also have a cool trick...drag, drop, and roll!\n",
    "\n",
    "file_name = r'C:\\...\\Data\\CSV\\JeopardyContestants_LatLon.csv'\n",
    "print arcpy.Exists(file_name)\n",
    "\n",
    "# Does it exist? Keep trying until you get the path correct and the result returns TRUE\n",
    "\n",
    "print arcpy.Describe(file_name).dataType\n",
    "# What type of data is this?\n"
   ]
  },
  {
   "cell_type": "code",
   "execution_count": null,
   "metadata": {
    "collapsed": false
   },
   "outputs": [],
   "source": [
    "# Step 2:\n",
    "\n",
    "# Replace the '...' with the location where you placed your downloaded data\n",
    "\n",
    "feature_class = r'C:\\...\\Data\\Illinois.gdb\\Illinois_Counties'\n",
    "# What kind of path is this?\n",
    "\n",
    "print arcpy.Exists(feature_class)\n",
    "\n",
    "print arcpy.Describe(feature_class).dataType\n",
    "# What type of data is this?"
   ]
  },
  {
   "cell_type": "code",
   "execution_count": null,
   "metadata": {
    "collapsed": false
   },
   "outputs": [],
   "source": [
    "# Step 3:\n",
    "\n",
    "layer_name = 'Illinois Counties'\n",
    "\n",
    "# What kind of path is this? System or Catalog?\n",
    "\n",
    "print arcpy.Exists(layer_name)\n",
    "\n",
    "lyr_desc = arcpy.Describe(layer_name)\n",
    "# Note how this Describe function and variable look different than before...\n",
    "# We can have describe objects become variables to be used later\n",
    "\n",
    "print lyr_desc.dataType\n",
    "print lyr_desc.dataElement.dataType\n",
    "\n",
    "# What is the different between the two print statements?\n",
    "# Lets look at the help: \n",
    "# http://desktop.arcgis.com/en/desktop/latest/analyze/arcpy-functions/describe-object-properties.htm\n",
    "# http://desktop.arcgis.com/en/desktop/latest/analyze/arcpy-functions/layer-properties.htm\n"
   ]
  },
  {
   "cell_type": "code",
   "execution_count": null,
   "metadata": {
    "collapsed": true
   },
   "outputs": [],
   "source": [
    "# Step 4:\n",
    "\n",
    "lyr_datatype = lyr_desc.dataElement.dataType\n",
    "\n",
    "lyr_path = lyr_desc.path\n",
    "\n",
    "lyr_basename = lyr_desc.baseName\n",
    "\n",
    "lyr_spatialref = lyr_desc.spatialReference.name\n",
    "\n",
    "lyr_count = arcpy.GetCount_management(layer_name)\n",
    "\n",
    "print \"{0} is a {1} stored at {2} with a file name of {3} with the {4} coordinate system and contains {5} features.\".format(layer_name, lyr_datatype, lyr_path, lyr_basename, lyr_spatialref, str(lyr_count))\n"
   ]
  },
  {
   "cell_type": "markdown",
   "metadata": {},
   "source": [
    "## Exercise: Listing Data in the ArcMap Python Window\n",
    "\n",
    "* Helps with batch processing (primary reason for developing scripts)\n",
    "* Lists are good for interating processes (another primary reason for developing scripts)\n",
    "* Easy inventory of data (e.g. list of fields in a table; feature classes in a geodatabase)\n",
    "\n",
    "Type, do not copy, the following code into the Python window\n",
    "\n",
    "*Note: This code is intended to only be run in the Python window of ArcMap*"
   ]
  },
  {
   "cell_type": "code",
   "execution_count": null,
   "metadata": {
    "collapsed": false
   },
   "outputs": [],
   "source": [
    "# Step 1:\n",
    "\n",
    "# More on environmental settings later\n",
    "# Replace the '...' with the location where you placed your downloaded data\n",
    "arcpy.env.workspace = r'C:\\...\\Data\\CSV'\n",
    "\n",
    "print arcpy.ListFiles()\n",
    "\n",
    "arcpy.env.workspace = r'C:\\...\\Data\\Illinois.gdb'\n",
    "\n",
    "print arcpy.ListFiles()\n",
    "\n",
    "print arcpy.ListFeatureClasses()\n",
    "\n",
    "# What is the difference between the two list functions?\n"
   ]
  },
  {
   "cell_type": "code",
   "execution_count": null,
   "metadata": {
    "collapsed": true
   },
   "outputs": [],
   "source": [
    "# Step 2:\n",
    "\n",
    "print arcpy.ListFields(\"Illinois Counties\")\n",
    "\n",
    "# What is the result? Can you understand it? \n",
    "# What is actually being output in this case? (Hint: What type of object?)\n",
    "\n",
    "fields = arcpy.ListFields(\"Illinois Counties\")\n",
    "for field in fields:\n",
    "    print field.name\n"
   ]
  },
  {
   "cell_type": "code",
   "execution_count": null,
   "metadata": {
    "collapsed": true
   },
   "outputs": [],
   "source": [
    "# Step 3:\n",
    "\n",
    "field_list = [field.name for field in arcpy.ListFields(\"Illinois Counties\")]\n",
    "\n",
    "print field_list\n",
    "\n",
    "# How does this result look differently than above?\n",
    "\n",
    "test_field = \"OBJECTID\"\n",
    "\n",
    "if test_field in field_list:\n",
    "    print \"{0} exists\".format(test_field)\n",
    "else:\n",
    "    print \"{0} does not exist\".format(test_field)\n",
    "\n",
    "# Repeat the above code using a test field that you know doesn't exist to test the 'else:' statement code\n",
    "# Does it work?\n"
   ]
  },
  {
   "cell_type": "markdown",
   "metadata": {},
   "source": [
    "## Exercise: Working with Geoprocessing Tools in the ArcMap Python Window\n",
    "\n",
    "* ArcPy gives access to all tools in ArcToolbox in addition to nontool functions\n",
    "* Working in the Python window allows for testing ideas and seeing how things work\n",
    "* Tested scripts can also be saved for reuse in the Python window or in an IDE.\n",
    "\n",
    "Type, do not copy, the following code into the Python window\n",
    "\n",
    "*Note: This code is intended to only be run in the Python window of ArcMap*"
   ]
  },
  {
   "cell_type": "code",
   "execution_count": null,
   "metadata": {
    "collapsed": true
   },
   "outputs": [],
   "source": [
    "# Step 1:\n",
    "import arcpy\n",
    "\n",
    "layer_name = \"Illinois Counties\"\n",
    "\n",
    "expression = \"ACSMEDHINC <= 40000\"\n",
    "\n",
    "arcpy.SelectLayerByAttribute_management(layer_name, \"NEW_SELECTION\", expression)\n",
    "\n",
    "arcpy.SelectLayerByAttribute_management(layer_name, \"CLEAR_SELECTION\")\n",
    "\n"
   ]
  },
  {
   "cell_type": "code",
   "execution_count": null,
   "metadata": {
    "collapsed": true
   },
   "outputs": [],
   "source": [
    "# Step 2:\n",
    "\n",
    "# Ensure that a default geodatabase is set\n",
    "\n",
    "disolve_felds = [\"STATE_NAME\", \"ST_ABBREV\"]\n",
    "\n",
    "# New drag, drop, and roll trick...\n",
    "\n",
    "arcpy.Dissolve_management(layer_name, \"Illinois\", disolve_felds, \"\", \"SINGLE_PART\", \"DISSOLVE_LINES\")\n",
    "\n",
    "arcpy.PolygonToLine_management(\"Illinois\", \"Illinois_Boundary\")\n"
   ]
  },
  {
   "cell_type": "code",
   "execution_count": null,
   "metadata": {
    "collapsed": true
   },
   "outputs": [],
   "source": [
    "# Step 3:\n",
    "\n",
    "# Replace the '...' with the location where you placed your downloaded data\n",
    "\n",
    "csv_file = r\"C:\\...\\Data\\CSV\\JeopardyContestants_LatLon.csv\"\n",
    "\n",
    "arcpy.CopyRows_management(csv_file, \"JeopardyContestants_Table\")\n",
    "\n",
    "arcpy.MakeXYEventLayer_management(\"JeopardyContestants_Table\", \"lon\", \"lat\", \"Jeopardy Contestants\")\n",
    "\n",
    "arcpy.Select_analysis(\"Jeopardy Contestants\", \"JeopardyContestants\", '\"lat\" IS NOT  NULL OR \"lon\" IS NOT NULL')\n",
    "\n",
    "arcpy.Buffer_analysis(\"JeopardyContestants\", \"JeopardyContestants_Buffer\", \"5 Miles\", \"FULL\", \"ROUND\", \"ALL\", \"\", \"GEODESIC\")\n"
   ]
  },
  {
   "cell_type": "markdown",
   "metadata": {},
   "source": [
    "## Your turn:\n",
    "\n",
    "### 1: Write code to clip the buffer to the Illinois state layer\n",
    "    Be careful with what tool you choose...\n",
    "\n",
    "### 2: Write code to intersect the new buffer to the Illinois Counties layer\n",
    "    You might need to check the tool's help documentation...\n",
    "\n",
    "### 3: Save your work as a text file (.txt) in the 'Scripts' folder \n",
    "    Open the text file and view it in a text editor (like Notepad)\n",
    "\n",
    "### 4: Save your work as a Python file (.py) in the 'Scripts' folder\n",
    "    Clear the Python window in ArcGIS and load the Python file back into the Python window\n",
    "    Try running the whole script at once\n"
   ]
  },
  {
   "cell_type": "markdown",
   "metadata": {},
   "source": [
    "# Break!!"
   ]
  },
  {
   "cell_type": "markdown",
   "metadata": {},
   "source": [
    "\n",
    "# IV. Python vs. ModelBuilder\n",
    "\n",
    "### Scenario:\n",
    "\n",
    "You developed a model in ModelBuilder for a common geoprocessing workflow that many people use in your organization. However, your fellow GIS users are asking for some more sofisticated functionality that ModelBuilder has a tough time handling. Therefore, you think Python will do the trick! How can you assess this?\n",
    "\n",
    "\n",
    "\n",
    "| Python   | ModelBuilder   |\n",
    "| -------- | -------------- |\n",
    "| Textual programming language | Visual Programming language |\n",
    "| Easy to learn with very flexible structure | Relativiely easier to learn for GIS beginners, but restrictive structure |\n",
    "| Python scripts can be used in ModelBuilder | ModelBuilder can export to Python (but not vice versa) |\n",
    "| Lower-level geoprocessing tasks (e.g. cursors) | Lower-level geoprocessing tasks may not be possible |\n",
    "| More advanced error handling | Errors handled by the tools in the model |\n",
    "| Better for iterations and loops | Can do iterations and loops, but can be difficult to setup properly |\n",
    "| Can use other Python modules and wrap other software (e.g. R) | Restricted by ArcToolbox tools |\n",
    "| Can run Python scripts outside of ArcGIS | ModelBuilder works when ArcGIS is running |\n",
    "\n",
    "Ultimately, it is about RI...return on investment..."
   ]
  },
  {
   "cell_type": "markdown",
   "metadata": {},
   "source": [
    "## Exercise: ModelBuilder to Python Script\n",
    "\n",
    "### Open the Model Named 'Illinois in Jeopardy' in edit mode (right-click > Edit...)\n",
    "\n",
    "* Note the workflow...look familiar?\n",
    "* Double check the outputs to ensure they are pointing to the correct location\n",
    "* If not, clisk the checkmark icon in the toolbar\n",
    "\n",
    "### Convert the Model to a Python Script\n",
    "\n",
    "* Click Model > Export > To Python Script...\n",
    "* Save it in the 'Scripts' folder\n",
    "\n",
    "### Open the new script in the IDE\n",
    "\n",
    "* What do you notice with how it is laid out and written?\n",
    "* How is any of the code different/similar to how we have written code up to now?\n",
    "* Can you run it from the IDE? Go ahead and try...\n",
    "* What modifications would you need to make for it to work as a stand-alone script?\n"
   ]
  },
  {
   "cell_type": "markdown",
   "metadata": {},
   "source": [
    "### ModelBuilder to Python Script Example:"
   ]
  },
  {
   "cell_type": "code",
   "execution_count": null,
   "metadata": {
    "collapsed": true
   },
   "outputs": [],
   "source": [
    "# -*- coding: utf-8 -*-\n",
    "# ---------------------------------------------------------------------------\n",
    "# IllinoisInJeopardy.py\n",
    "# Created on: 2015-09-11 12:14:22.00000\n",
    "#   (generated by ArcGIS/ModelBuilder)\n",
    "# Usage: IllinoisInJeopardy <Jeopardy_CSV_File> \n",
    "# Description: \n",
    "# Illinois is in Jeopardy!\n",
    "# ---------------------------------------------------------------------------\n",
    "\n",
    "# Import arcpy module\n",
    "import arcpy\n",
    "\n",
    "# Script arguments\n",
    "Jeopardy_CSV_File = arcpy.GetParameterAsText(0)\n",
    "if Jeopardy_CSV_File == '#' or not Jeopardy_CSV_File:\n",
    "    Jeopardy_CSV_File = \"C:\\\\...\\\\Data\\\\CSV\\\\JeopardyContestants_LatLon.csv\" # provide a default value if unspecified\n",
    "\n",
    "# Local variables:\n",
    "JeopardyContestants_Table = \"C:\\\\...\\\\Data\\\\Illinois.gdb\\\\JeopardyContestants_Table\"\n",
    "Jeopardy_Contestants = \"Jeopardy Contestants\"\n",
    "JeopardyContestants = \"C:\\\\...\\\\Data\\\\Illinois.gdb\\\\JeopardyContestants\"\n",
    "JeopardyContestants_Buffer = \"C:\\\\...\\\\Data\\\\Illinois.gdb\\\\JeopardyContestants_Buffer\"\n",
    "\n",
    "# Process: Copy Rows\n",
    "arcpy.CopyRows_management(Jeopardy_CSV_File, JeopardyContestants_Table, \"\")\n",
    "\n",
    "# Process: Make XY Event Layer\n",
    "arcpy.MakeXYEventLayer_management(JeopardyContestants_Table, \"lon\", \"lat\", Jeopardy_Contestants, \"GEOGCS['GCS_WGS_1984',DATUM['D_WGS_1984',SPHEROID['WGS_1984',6378137.0,298.257223563]],PRIMEM['Greenwich',0.0],UNIT['Degree',0.0174532925199433]];-400 -400 1000000000;-100000 10000;-100000 10000;8.98315284119522E-09;0.001;0.001;IsHighPrecision\", \"\")\n",
    "\n",
    "# Process: Select\n",
    "arcpy.Select_analysis(Jeopardy_Contestants, JeopardyContestants, \"\\\"lat\\\" IS NOT NULL OR \\\"lon\\\" IS NOT NULL\")\n",
    "\n",
    "# Process: Buffer\n",
    "arcpy.Buffer_analysis(JeopardyContestants, JeopardyContestants_Buffer, \"5 Miles\", \"FULL\", \"ROUND\", \"NONE\", \"\", \"GEODESIC\")\n"
   ]
  },
  {
   "cell_type": "markdown",
   "metadata": {},
   "source": [
    "# V. Automating Geoprocesses with Stand-alone Scripts\n",
    "\n",
    "### Senario:\n",
    "\n",
    "Your supervisor is a Jeopardy! nut job and he watches it every night! To make matters worse, he has compiled a list of all of the Jeopardy! contestants on his nerdy website (It's probably a Blogspot site from 2003!). He's pretty good at Python (but is awful at GIS!), so he used the Nominatim module to find latitude and longitude values for contestants' home towns. He shared his CSV file with you containing all the contestants from the state of Illinois and has asked you to map them out and determine how wealthy their home county is and how many contestants came from each county. \n",
    "\n",
    "Remember that time he asked you last year to do this? Well, he's asking again becasue he wants an updated list! This time he's discovered the beauty of geodatabases, so he definitely wants a feature class this time, unlike the shapefile from before (but, next time he might forget about geodatabases...). And you suspect he will ask you again, only he will want all of his contestants mapped! \n",
    "\n",
    "Since you took that GIS Python course, you decide it might best for you write a script...and one that allows him to choose which format, shapefile or a FGDB feature class. You also need to impressive your boss so your job isn't in Jeopardy! (Is that going too far...?). \n"
   ]
  },
  {
   "cell_type": "markdown",
   "metadata": {},
   "source": [
    "### Stand-alone Scripts Exercises\n",
    "\n",
    "* Copying Python code snippets from ArcMap\n",
    "* Convert CSV files to Feature Class/Shapefile. (Data Management process)\n",
    "  * Data preparation for analysis\n",
    "  * Dataset mashups (??)\n",
    "  * Iterating processes"
   ]
  },
  {
   "cell_type": "markdown",
   "metadata": {},
   "source": [
    "## Exercise: Planning a Stand-alone Script (i.e. Pseudo Code)\n",
    "\n",
    "### What is Pseudo Code?\n",
    "\n",
    "* A plain-language explanation or outline of the script workflow\n",
    "* Helps to organize and plan the script workflow\n",
    "* Allows others reading the code to understand more clearly what is being done\n",
    "* Can be written directly in the code using comments (e.g. '#')\n",
    "\n",
    "\n",
    "#### Note: This is just one of many methodologies...\n",
    "* You can modify this as much as you want\n",
    "* Find a stucture that works for you\n",
    "* Keep it simple"
   ]
  },
  {
   "cell_type": "markdown",
   "metadata": {},
   "source": [
    "### General Components of a Script"
   ]
  },
  {
   "cell_type": "code",
   "execution_count": null,
   "metadata": {
    "collapsed": true
   },
   "outputs": [],
   "source": [
    "# Script Info and Metadata\n",
    "\n",
    "    #-------------------------------------------------------------------------------\n",
    "    # Name:        <ScriptName>.py\n",
    "    # Purpose:     <Some important purpose.>\n",
    "    #\n",
    "    # Author:      <Name, Your>\n",
    "    #\n",
    "    # Created:     11/09/2015\n",
    "    # Copyright:   (c) <Your Name> 2015\n",
    "    # Licence:     <your licence>\n",
    "    #-------------------------------------------------------------------------------\n",
    "\n",
    "# Import Modules\n",
    "    # arcpy and other modules that may help you complete your code\n",
    "\n",
    "# Parameters\n",
    "    # What inputs and outputs will the user have contorl over?\n",
    "\n",
    "# Environments\n",
    "    # Gets the house in order for how data and outputs will be dealt with\n",
    "    \n",
    "# Variables\n",
    "    # Anything that is not a parameter thay may be used multiple times\n",
    "    # These may also be dispersed throughout the script\n",
    "\n",
    "# Processes\n",
    "    # The code that dictates the workflow\n"
   ]
  },
  {
   "cell_type": "markdown",
   "metadata": {},
   "source": [
    "### Pseudo Code for the Stand-alone Script\n",
    "\n",
    "Create a new script in you IDE and save it to the 'Scripts' folder\n",
    "\n",
    "Add the pseudo code below as comments int he script"
   ]
  },
  {
   "cell_type": "code",
   "execution_count": null,
   "metadata": {
    "collapsed": true
   },
   "outputs": [],
   "source": [
    "# Processes\n",
    "\n",
    "# Copy CSV table to geodatabase stand-alone table\n",
    "\n",
    "# Convert table to XY Layer\n",
    "\n",
    "# Make the XY Layer a permanent point feature class or shapefile based on user input\n",
    "\n",
    "# Intersect the points with counties layer and include all fields from both layers\n",
    "\n",
    "# Sum the number of contestants from each county and total winnings and output as a table\n"
   ]
  },
  {
   "cell_type": "markdown",
   "metadata": {},
   "source": [
    "### What are the modules and user parameter inputs and outputs?\n",
    "\n",
    "Add the following pseudo code and parameter variables to your script ***above the previous pseudo code***\n"
   ]
  },
  {
   "cell_type": "code",
   "execution_count": null,
   "metadata": {
    "collapsed": true
   },
   "outputs": [],
   "source": [
    "# Import Modules\n",
    "import arcpy\n",
    "\n",
    "\n",
    "# Parameters\n",
    "\n",
    "# Inputs:\n",
    "# CSV File with XY coordinates\n",
    "csv_file = r'C:\\...\\Data\\CSV\\JeopardyContestants_LatLon.csv' # Replace the '...' with the location where you placed your downloaded data\n",
    "\n",
    "# Fields that holds the lat and long values\n",
    "lon = 'lon' # this is the x value\n",
    "lat = 'lat' # this is the y value\n",
    "\n",
    "# Spatial reference CSV XY coordinates\n",
    "csv_spatialref = arcpy.SpatialReference('WGS 1984')\n",
    "\n",
    "# Counties feature class\n",
    "counties = 'Illinois_Counties'\n",
    "\n",
    "# Outputs:\n",
    "# Contestants Intersect Feature Class or Shapefile\n",
    "fc_output = 'JeopardyContestants_Income'\n",
    "\n",
    "# Sum of Contestants by County Table\n",
    "tbl_output = 'JeopardyContestants_ByCounty'\n",
    "\n",
    "\n",
    "# Environments\n"
   ]
  },
  {
   "cell_type": "markdown",
   "metadata": {},
   "source": [
    "## Exercise: Using Environment Settings\n",
    "\n",
    "Now we're ready to write our script! But first, we need to do some house keeping!\n",
    "\n",
    "### What are Environmental Settings?\n",
    "\n",
    "http://desktop.arcgis.com/en/desktop/latest/tools/environments/what-is-a-geoprocessing-environment.htm\n",
    "\n",
    "* Hidden parameters that influence how tools run\n",
    "* Fundamental in controlling the geoprocessing workflow\n",
    "* Exposed as properties and set using the **`env`** class\n",
    "* Corresponds to the 'Environments...' found in tools\n",
    "* There is a hierarchy with how ArcGIS deals with environmental settings. See http://desktop.arcgis.com/en/desktop/latest/tools/environments/environment-levels-and-hierarchy.htm\n"
   ]
  },
  {
   "cell_type": "code",
   "execution_count": null,
   "metadata": {
    "collapsed": false
   },
   "outputs": [],
   "source": [
    "# Try this code in the Python window to see the result...\n",
    "\n",
    "print arcpy.ListEnvironments()"
   ]
  },
  {
   "cell_type": "markdown",
   "metadata": {},
   "source": [
    "### Add a workspace as an environment\n",
    "\n",
    "Setting the workspace environment allows us to shorten some of the input parameter variables. For example, by having the workspace set, arcpy automatially knows to save the **`fc_output`** parameter of **`'JeopardyContestants_Income'`** in the defined workspace. If we didn't define the workspace, we would need to set the parameter as **`fc_output = r'C:\\...\\Data\\Illinois.gdb\\JeopardyContestants_Income'`**. Therefore, this is a shortcut!\n",
    "\n",
    "We also may be overwriting our outputs a lot, so we will add the evnvironment also.\n",
    "\n",
    "Add the following code below the **`# Environments`** comment\n"
   ]
  },
  {
   "cell_type": "code",
   "execution_count": null,
   "metadata": {
    "collapsed": true
   },
   "outputs": [],
   "source": [
    "# Environments\n",
    "\n",
    "arcpy.env.workspace = r'C:\\...\\Data\\Illinois.gdb' # Replace the '...' with the location where you placed your downloaded data\n",
    "arcpy.env.overwriteOutput = True\n"
   ]
  },
  {
   "cell_type": "markdown",
   "metadata": {},
   "source": [
    "## Exercise: Adding geoprocessing tools to your script\n",
    "\n",
    "### 1. Typing in the IDE\n",
    "\n",
    "* Many IDEs will auto complete\n",
    "* Type the following code in the IDE script after the matching pseudo code:\n"
   ]
  },
  {
   "cell_type": "code",
   "execution_count": null,
   "metadata": {
    "collapsed": true
   },
   "outputs": [],
   "source": [
    "# Copy CSV table to geodatabase stand-alone table\n",
    "\n",
    "xy_table = 'JeopardyContestants_Table'\n",
    "\n",
    "arcpy.CopyRows_management(csv_file, xy_table)\n"
   ]
  },
  {
   "cell_type": "markdown",
   "metadata": {},
   "source": [
    "### 2. Why type when you can copy from an exisitng script!\n",
    "\n",
    "* Scipts can be copied, but make sure you check the variables and parameters to enuser they are correct (I took care of this for you)  \n",
    "* Copy the following code to the IDE script after the matching pseudo code:\n",
    "    "
   ]
  },
  {
   "cell_type": "code",
   "execution_count": null,
   "metadata": {
    "collapsed": true
   },
   "outputs": [],
   "source": [
    "# Convert table to XY Layer\n",
    "\n",
    "xy_layer = 'Jeopardy Contestants'\n",
    "\n",
    "arcpy.MakeXYEventLayer_management(xy_table, lon, lat, xy_layer, csv_spatialref)\n"
   ]
  },
  {
   "cell_type": "markdown",
   "metadata": {},
   "source": [
    "### 3. Test the tool in ArcMap, then 'Copy as Python Snippet'\n",
    "\n",
    "* Watch the demonstration for **`# Make the XY Layer a permanent point feature class or shapefile based on user input`**\n",
    "* Note how the code looks\n",
    "* Clean the code to make it more readable and useable\n",
    "* Add any variables that may be useful later\n",
    "\n",
    "### 4. On your Own, add the code for last two processes using any method\n",
    "\n",
    "* Have you created code for either process?\n",
    "* Which tools will you use?\n",
    "* If you are stuck, an example of the final script is in the 'Answers\\Scripts' folder\n",
    "* Run your script to test it\n",
    "  "
   ]
  },
  {
   "cell_type": "markdown",
   "metadata": {},
   "source": [
    "## Exercise: Handling Errors and Debugging\n",
    "\n",
    "### Three types of errors in Python\n",
    "* Syntax errors - prevent code from running\n",
    "* Exceptions - code will stop running midprocess\n",
    "* Logic errors - code will run, but produces undesired results\n",
    "  \n",
    "### What is debugging?\n",
    "* Methodological process for finding errors in the script\n",
    "* Debugging methods don't usually tell you why, but rather where the issue is occurring\n",
    "* Examples include:\n",
    "  * Carefully reviewing error messages (we have done this a little bit...)\n",
    "  * Adding **`print`** statements to flag certain processes (we will do this!)\n",
    "  * Selectively commenting out code while testing (you might shoose to do thist)\n",
    "  * Using a Python IDE debugger (we won't cover this...sorry)\n",
    "\n",
    "### Add some `print` statements to the code\n",
    "* Add a descriptive print statement after each process\n",
    "* If a print statement does not execute, then that is the process to check for issues\n",
    "* See the example below:"
   ]
  },
  {
   "cell_type": "code",
   "execution_count": null,
   "metadata": {
    "collapsed": true
   },
   "outputs": [],
   "source": [
    "# Copy CSV table to geodatabase stand-alone table\n",
    "\n",
    "xy_table = 'JeopardyContestants_Table'\n",
    "\n",
    "arcpy.CopyRows_management(csv_file, xy_table)\n",
    "\n",
    "print arcpy.Describe(csv_file).name + ' converted to table.'"
   ]
  },
  {
   "cell_type": "markdown",
   "metadata": {},
   "source": [
    "### Handeling Errors Using conditional statements\n",
    "* Replace the following code for the identified process\n",
    "* Note the indents after the **`if:`** statement\n",
    "* Try to test the error by changing a field name\n"
   ]
  },
  {
   "cell_type": "code",
   "execution_count": null,
   "metadata": {
    "collapsed": true
   },
   "outputs": [],
   "source": [
    "# Processes\n",
    "# ...\n",
    "\n",
    "# Convert table to XY Layer\n",
    "\n",
    "field_list = [field.name for field in arcpy.ListFields(xy_table)]\n",
    "\n",
    "if lat in field_list and lon in field_list:\n",
    "    print '{0} and {1} fields exist'.format(lat, lon)\n",
    "    \n",
    "else:\n",
    "    raise Exception('{0} or {1} fields DO NOT exist. Check field names.'.format(lat, lon))\n",
    "\n",
    "xy_layer = 'Jeopardy Contestants'\n",
    "\n",
    "arcpy.MakeXYEventLayer_management(xy_table, lon, lat, xy_layer)\n",
    "\n",
    "print 'XY Layer created'\n"
   ]
  },
  {
   "cell_type": "markdown",
   "metadata": {},
   "source": [
    "### Handeling Errors Using `try-except`\n",
    "* Add the follow **`try-except`** statement before executing the processes\n",
    "* Note the indents after the **`try:`** statement\n",
    "* Try to test the error\n"
   ]
  },
  {
   "cell_type": "code",
   "execution_count": null,
   "metadata": {
    "collapsed": true
   },
   "outputs": [],
   "source": [
    "# Processes\n",
    "\n",
    "try:\n",
    "\n",
    "    # Indent all processes...\n",
    "    \n",
    "    # Copy CSV table to geodatabase stand-alone table\n",
    "\n",
    "    xy_table = 'JeopardyContestants_Table'\n",
    "\n",
    "    arcpy.CopyRows_management(csv_file, xy_table)\n",
    "\n",
    "    print arcpy.Describe(csv_file).name + ' converted to table.'\n",
    "\n",
    "    # Convert table to XY Layer\n",
    "\n",
    "    field_list = [field.name for field in arcpy.ListFields(xy_table)]\n",
    "\n",
    "    if lat in field_list and lon in field_list:\n",
    "        print '{0} and {1} fields exist'.format(lat, lon)\n",
    "    else:\n",
    "# Change this line also\n",
    "        print '{0} or {1} fields DO NOT exist. Check field names.'.format(lat, lon)\n",
    "\n",
    "    #.................\n",
    "    \n",
    "    # Sum the number of contestants from each county and total winnings and output as a table\n",
    "\n",
    "    arcpy.Frequency_analysis(fc_output, tbl_output, 'NAME_1', 'totalwinnings')\n",
    "\n",
    "    print 'Contestants by county summary complete. Script complete.'\n",
    "\n",
    "except arcpy.ExecuteError:\n",
    "    print arcpy.GetMessages(2)\n",
    "    print 'Could not complete script'\n",
    "\n",
    "except:\n",
    "    print 'Could not complete script'"
   ]
  },
  {
   "cell_type": "markdown",
   "metadata": {},
   "source": [
    "# VI. Adding Python Script Tools to Toolboxes\n",
    "\n",
    "### Senario:\n",
    "\n",
    "Your supervisor has finally learned to use ArcGIS! After he was so impressed by your script he finally recognized your value and had you teach him GIS the last 6 months (and, no, no raise for you...yet!). Now, he's forgotten Python and he only knows how to use the tools in ArcGIS, so he is looking for something similar to map his contestants. Now you need to figure out how to get that script into an ArcGIS toolbox for him to use (and maybe he will give you a raise!...or he will fire you because you keep coding yourself out of job!!).\n",
    " "
   ]
  },
  {
   "cell_type": "markdown",
   "metadata": {},
   "source": [
    "### Creating and sharing scripts with custom ArcGIS toolboxes\n",
    "\n",
    "#### Two ways to run a script:\n",
    "\n",
    "* Stand-alone (as we have done)\n",
    "* Script tool in ArcGIS\n",
    "\n",
    "#### Advantages to using script tools over stand-alone scripts:\n",
    "\n",
    "* Allows for integration into ArcGIS\n",
    "* Can be run from ArcToolbox\n",
    "* Can be used in ModelBuilder\n",
    "* Can be used in other scripts\n",
    "* Relativiely easy to create script tools\n",
    "* Very useful for traditional ArcGIS users using the familiar tool interface\n",
    "* Reduces errors (and error checking) by specifying parameters and contoling user input\n",
    "* Easy to share with other users with the right set up\n",
    "* Using script tools requires no knowledge of Python\n",
    "\n",
    "#### Steps to creating a tool\n",
    "\n",
    "* Create a stand-alone script (DONE!)\n",
    "* Modify the script to seamlessly pass inputs and outputs through the script tool (More coding...you got this!...)\n",
    "* Create a custom toolbox to store the tool (I created one for you already!)\n",
    "* Add a script tool to the custom toolbox and follow the Add Script wizard (Ok, we haven't done this...)\n",
    "\n",
    "*Note: You will also notice options for Python Toolboxes. These are more advanced and allow additional capabilities. However, they are beyond the scope of this workshop.*\n",
    "\n",
    "Help Documentation: http://desktop.arcgis.com/en/desktop/latest/analyze/creating-tools/a-quick-tour-of-creating-tools-in-python.htm\n"
   ]
  },
  {
   "cell_type": "markdown",
   "metadata": {},
   "source": [
    "## Exercise: Modify Script Inputs and Outputs to Be Used in the Script Tool\n",
    "\n",
    "* Inputs and outputs use the **`arcpy.GetParameterAsText(<index>)`** funtion to pass variable between the tool and the script.\n",
    "* All inputs and outputs must be modified to utilize tools\n",
    "\n",
    "#### 1. In the IDE, save a copy (i.e. save as...) of your stand-alone script and add '_ScriptTool.py' to the name\n",
    "\n",
    "#### 2. Modify the scripts code to align with the code below\n",
    "* Part 1: Inputs and outputs converted to user input parameters\n",
    "* Part 2: Environments are not managed by the tool"
   ]
  },
  {
   "cell_type": "code",
   "execution_count": null,
   "metadata": {
    "collapsed": true
   },
   "outputs": [],
   "source": [
    "# Parameters\n",
    "\n",
    "# Inputs:\n",
    "# CSV File with XY coordinates\n",
    "csv_file = arcpy.GetParameterAsText(0) #r'C:\\...\\Data\\CSV\\JeopardyContestants_LatLon.csv' # Replace the '...' with the location where you placed your downloaded data\n",
    "\n",
    "# Fields that holds the lat and long values\n",
    "lon = arcpy.GetParameterAsText(1) # 'lon' # this is the x value\n",
    "lat = arcpy.GetParameterAsText(2) #'lat' # this is the y value\n",
    "\n",
    "# Spatial reference CSV XY coordinates\n",
    "csv_spatialref = arcpy.GetParameterAsText(3) # arcpy.SpatialReference('WGS 1984')\n",
    "\n",
    "# Counties feature class\n",
    "counties = arcpy.GetParameterAsText(4) #'Illinois_Counties'\n",
    "\n",
    "# Outputs:\n",
    "# Contestants Intersect Feature Class or Shapefile\n",
    "fc_output = arcpy.GetParameterAsText(5) # 'JeopardyContestants_Income'\n",
    "\n",
    "# Sum of Contestants by County Table\n",
    "tbl_output = arcpy.GetParameterAsText(6) # 'JeopardyContestants_ByCounty'\n",
    "\n",
    "\n",
    "# Environments\n",
    "\n",
    "#arcpy.env.workspace = r'C:\\...\\Data\\Illinois.gdb' # Replace the '...' with the location where you placed your downloaded data\n",
    "#arcpy.env.overwriteOutput = True\n"
   ]
  },
  {
   "cell_type": "markdown",
   "metadata": {},
   "source": [
    "## Exercise: Adding a Script to a Toolbox\n",
    "\n",
    "* Inputs and outputs are actually passed as text strings\n",
    "* The script tool allows for those text strings to be pre-validated before using them in the script\n",
    "* This is essentially a form of error handeling\n",
    "\n",
    "#### 1 .In the Catalog window in ArcMap, right-click on the custom toolbox and hover over 'Add' and click 'Script...'\n",
    "This will activate the Add Script wizard\n",
    "\n",
    "#### 2. Naming the script tool\n",
    "\n",
    "* Name: IllinoisInJeopardyScript\n",
    "* Label and Description: Illinois in Jeopardy Script (Final)\n",
    "* Check 'Store relative path names...'\n",
    "* Check 'Always run in foreground' (for now...)\n",
    "\n",
    "#### 3. Adding the script file (.py)\n",
    "\n",
    "* Add the script ending in '_ScriptTool.py'.\n",
    "* Check 'Run Python script in process'\n",
    "\n",
    "#### 4. Adding inputs and outputs\n",
    "\n",
    "* Reference the script for all inputs and outputs\n",
    "* Add descriptitive names - spaces are ok\n",
    "* Choose the correct and expected data types for the inputs and outputs\n",
    "* Set up the appropriate parrameter properties\n",
    "\n",
    "**Hints:**\n",
    "\n",
    "* For the CSV file, note that there are many data types that could be used. \n",
    "  * What is the best one?\n",
    "  * You may need to experiment\n",
    "  * It is helpful to check the help documentation of the tools you are using to help determine data types\n",
    "* For the lat and lon fields:\n",
    "  * Filter the input to number fields only\n",
    "  * You can read in the fields from the CSV file to create a drop-down list of usable fields\n",
    "* Yes, there is a spatial reference data type!\n",
    "* For the county layer with income, there is more than one data type choice. Which is the best?\n",
    "* Don't forget to change the Direction property for outputs\n",
    "\n",
    "#### 5. Run and test the script tool\n",
    "* What messages were returned?\n",
    "* Learn how to add messages to the tool output: http://desktop.arcgis.com/en/desktop/latest/analyze/creating-tools/writing-messages-in-script-tools.htm\n",
    "* Hint on Messages: Look for the print statements\n",
    "* Try outputting a shapefile and DBF table in a folder\n",
    "* Did it work? If it didn't, how can you fix this?\n",
    "\n",
    "#### 6. Edit and debug the tool as needed\n",
    "* Shapefiles??? \n",
    "* Are there any outputs you don't want to keep? \n",
    "* Try adding code to delete those unwanted feature classes\n",
    "* Or learn about the `in_memory` workspace: http://desktop.arcgis.com/en/desktop/latest/analyze/modelbuilder/the-in-memory-workspace.htm\n",
    "* If there are no errors now, just wait until people start using it a lot...they'll find them if they exist! This is an iterative process\n",
    "\n",
    "#### 7. Share the tool\n",
    "\n",
    "* Make sure the script and/or script folder is easily accessible by the toolbox and tool (i.e. let relative paths work for you)...Zip and ship!\n",
    "* Try embedding the script\n",
    "\n",
    "Help Documentation: http://desktop.arcgis.com/en/desktop/latest/analyze/sharing-workflows/a-quick-tour-of-sharing-tools.htm\n",
    "Oldie, but a goodie: http://help.arcgis.com/en/arcgisdesktop/10.0/help/#/A_structure_for_sharing_tools/005700000004000000/"
   ]
  },
  {
   "cell_type": "markdown",
   "metadata": {},
   "source": [
    "# Moving Forward\n",
    "\n",
    "### Exapnd on today's scripts\n",
    "\n",
    "* Learn about modifying the script tool documentation and metadata: http://desktop.arcgis.com/en/desktop/latest/analyze/creating-tools/a-quick-tour-of-documenting-tools-and-toolboxes.htm\n",
    "* Try to combine the morning and afternoon final scripts to create a 'mega' script\n",
    "* Create a (FREE!) geocoder using Nominatim and ArcPy\n",
    "\n",
    "### Start using python in your everyday workflows!\n",
    "\n",
    "* Resist the temptation to fall back on ModelBuilder\n",
    "* Read Python and ArcPy documentation...and read it again!\n",
    "* Collaborate with and try to teach colleagues\n",
    "* Get involved with a local development group...Esri has some\n",
    "\n"
   ]
  },
  {
   "cell_type": "code",
   "execution_count": null,
   "metadata": {
    "collapsed": true
   },
   "outputs": [],
   "source": [
    "print \"Goodbye!\""
   ]
  }
 ],
 "metadata": {
  "kernelspec": {
   "display_name": "Python 2",
   "language": "python",
   "name": "python2"
  },
  "language_info": {
   "codemirror_mode": {
    "name": "ipython",
    "version": 2
   },
   "file_extension": ".py",
   "mimetype": "text/x-python",
   "name": "python",
   "nbconvert_exporter": "python",
   "pygments_lexer": "ipython2",
   "version": "2.7.5"
  }
 },
 "nbformat": 4,
 "nbformat_minor": 0
}
