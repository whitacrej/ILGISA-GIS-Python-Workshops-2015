{
 "cells": [
  {
   "cell_type": "markdown",
   "metadata": {},
   "source": [
    "# Getting Started with Python and ArcPy in ArcGIS\n",
    "\n",
    "**Description:**\n",
    "\n",
    "Building on Python Programming Basics for GIS Professionals but open to anyone with some programming experience, this workshop will expand on those skills to further use Python in ArcGIS. The workshop will focus on the ArcPy Python site package to expand geoprocessing capabilities with Python scripts. Participants will learn to build multiple standalone geoprocessing scripts covering different GIS tasks and workflows. The workshop will also cover how to create scripting tools in ArcGIS toolboxes for reuse and sharing. Participants will finish with the skills to explore more resources and options for utilizing Python in ArcGIS.\n",
    "\n",
    "**Specific Topics Include:**\n",
    "* Work with the ArcPy Python site package for ArcGIS\n",
    "* Convert ModelBuilder models to Python scripts\n",
    "* Build and share stand-alone Python script tools for automation\n",
    "* Learn tips and tricks for valid script syntax and error handling\n",
    "\n",
    "**Computing and Software Needs:**\n",
    "* Your own laptop; computers will not be provided.\n",
    "* Python IDE\n",
    "    * <a href=\"http://sourceforge.net/projects/pyscripter/files/\" target=\"_blank\">PyScripter</a> (v. 2.6.0 **32-bit**) *NOTE:* The zip files contain portable versions of PyScripter.   No installation is needed. Just\n",
    "unzip the archive and start using PyScripter.\n",
    "    * <a href=\"https://www.jetbrains.com/pycharm/download/\" target=\"_blank\">JetBrains PyCharm Community Edition</a> *NOTE:* This IDE requires admin privileges to install.\n",
    "    * IDLE is also shipped with ArcGIS for Desktop, so it can also be used\n",
    "\n",
    "\n",
    "* <a href=\"https://pypi.python.org/pypi/nominatim/0.1\" target=\"_blank\">OSM Nominatim API module</a> *NOTE:* Windows users will need to download the Windows installer .exe file.\n",
    "* ArcGIS 10.2+ for Desktop (Standard or Advanced)\n",
    "\n",
    "\n",
    "**Instructors:**\n",
    "\n",
    "**James Whitacre**, GIS Specialist, University Library, University of Illinois at Urbana-Champaign\n",
    "\n",
    "As the GIS Specialist in the Main Library at the University of Illinois at Urbana-Champaign, Mr. Whitacre's primary role is to provide GIS consultation and research assistance for faculty, staff, and students. Additionally, he teaches a myriad of GIS workshops for beginner to advanced users and helps manage the Library's GIS data and software assets. He is also a central resource for the GIS community on campus to promote the use of GIS in research. Mr. Whitacre holds a Master of Science in Geography and was previously the GIS Manager for the Carnegie Museum of Natural History.\n",
    "\n",
    "**Zoe Zaloudek**, GIS Specialist, Illinois State Water Survey, Prairie Research Institute\n",
    "\n",
    "Bio...\n"
   ]
  },
  {
   "cell_type": "markdown",
   "metadata": {},
   "source": [
    "# Review of *Python Programming for GIS Professionals*\n",
    "\n",
    "* this will catch up/review minimal skills needed for those who didn't attend first session\n",
    "* Maybe Elizabeth teaches this portion\n",
    "* Have the students try some Python to calculate a field\n"
   ]
  },
  {
   "cell_type": "markdown",
   "metadata": {},
   "source": [
    "### Calculating fields using Python\n",
    "\n",
    "*Note: This code is intended to be used to calculate an attribute table field in ArcGIS using the Field Calculator or Calculate Field tool.\n"
   ]
  },
  {
   "cell_type": "code",
   "execution_count": null,
   "metadata": {
    "collapsed": true
   },
   "outputs": [],
   "source": [
    "# Code Block:\n",
    "\n",
    "\n",
    "\n",
    "# Expression:\n",
    "\n"
   ]
  },
  {
   "cell_type": "markdown",
   "metadata": {},
   "source": [
    "# Python vs. ModelBuilder\n",
    "\n",
    "| Python   | ModelBuilder   |\n",
    "| -------- | -------------- |\n",
    "| Textual programming language | Visual Programming language |\n",
    "| Easy to learn with very flexible structure | Relativiely easier to learn for GIS beginners, but restrictive structure |\n",
    "| Python scripts can be used in ModelBuilder | ModelBuilder can export to Python (but not vice versa) |\n",
    "| Lower-level geoprocessing tasks (e.g. cursors) | Lower-level geoprocessing tasks may not be possible |\n",
    "| More advanced error handling | Errors can only be handled by the tools in the model |\n",
    "| Better for iterations and loops | Can do iterations and loops, but can be difficult to setup properly |\n",
    "| Can use other Python modules and wrap other software (e.g. R) | Restricted by ArcToolbox tools |\n",
    "| Can run Python scripts outside of ArcGIS | ModelBuilder works when ArcGIS is running |"
   ]
  },
  {
   "cell_type": "markdown",
   "metadata": {},
   "source": [
    "# Introduction to ArcPy\n",
    "\n",
    "* Overview of the ArcPy site package and modules\n",
    "* 'import'ing the ArcPy site package (i.e. module)"
   ]
  },
  {
   "cell_type": "markdown",
   "metadata": {},
   "source": [
    "### What is ArcPy?\n",
    "\n",
    "ArcPy is a site package that builds on (and is a successor to) the successful arcgisscripting module. Its goal is to create the cornerstone for a useful and productive way to perform geographic data analysis, data conversion, data management, and map automation with Python.\n",
    "\n",
    "This package provides a rich and native Python experience offering code completion (type a keyword and a dot to get a pop-up list of properties and methods supported by that keyword; select one to insert it) and reference documentation for each function, module, and class.\n",
    "\n",
    "The additional power of using ArcPy within Python is the fact that Python is a general-purpose programming language. It is interpreted and dynamically typed and is suited for interactive work and quick prototyping of one-off programs known as scripts while being powerful enough to write large applications in. ArcGIS applications written with ArcPy benefit from the development of additional modules in numerous niches of Python by GIS professionals and programmers from many different disciplines.\n",
    "\n",
    "From <a href=\"http://desktop.arcgis.com/en/desktop/latest/analyze/arcpy/what-is-arcpy-.htm\" target=\"_blank\">http://desktop.arcgis.com/en/desktop/latest/analyze/arcpy/what-is-arcpy-.htm</a>"
   ]
  },
  {
   "cell_type": "code",
   "execution_count": 1,
   "metadata": {
    "collapsed": false,
    "scrolled": true
   },
   "outputs": [],
   "source": [
    "# Always import the arcpy site package\n",
    "\n",
    "import arcpy # this may take a while if you are working outside of ArcGIS"
   ]
  },
  {
   "cell_type": "markdown",
   "metadata": {},
   "source": [
    "# Working with the Python Window in ArcMap"
   ]
  },
  {
   "cell_type": "markdown",
   "metadata": {},
   "source": [
    "### Download exercise data from: URL...\n",
    "\n",
    "### Open the ArcMap Document 'Illinois.mxd'\n",
    "\n",
    "### Open the Python Window in ArcMap\n",
    "\n",
    "* Replaces the Command Line for earlier releases of ArcGIS\n",
    "* Allows for running geoprocessing tools while also taking advantage of other Python modules and librarires\n",
    "* Can be used for single-line code (e.g. Used instead of ArcToolbox to access tools)\n",
    "* Can be used for testing syntax and longer, more complex scripts that might be used for automating workflows"
   ]
  },
  {
   "cell_type": "markdown",
   "metadata": {},
   "source": [
    "### Notes about the Python Window\n",
    "\n",
    "* Left side is the interactive Python interpreter panel\n",
    "  * This is where code is entered\n",
    "  * Note the three greater-than symbols (>>>)\n",
    "* Right side is the help and syntax panel\n",
    "* Code is generally executed one line at a time and displayed immediately. Exceptions include:\n",
    "  * Multi-line constucts (such as IF statements)\n",
    "  * Pressing SHIFT or CTRL + ENTER at the end of a line of code (you may need to hit ENTER a few times when you are ready to run the code)\n",
    "* Other Advanatages of the Python Window\n",
    "  * Autocompletion\n",
    "  * Conditional and Iteration executuion\n",
    "  * Scripts can be saved and reused or opened with another Python IDE"
   ]
  },
  {
   "cell_type": "markdown",
   "metadata": {},
   "source": [
    "# ArcMap Python Window Exercise"
   ]
  },
  {
   "cell_type": "markdown",
   "metadata": {},
   "source": [
    "### Describing Data with ArcPy\n",
    "\n",
    "* Describing data allows to learn more about the data we are working with\n",
    "* Describe functions are useful when scripts may be dependent on the type of data being used\n",
    "* Good for controlling script flow and valdating parameters\n",
    "* Many property groups and some prperties exist for only some types\n",
    "\n",
    "See ArcGIS Documentation: http://desktop.arcgis.com/en/desktop/latest/analyze/arcpy-functions/describe.htm\n",
    "\n",
    "Type or copy the following code into the Python window\n",
    "\n",
    "*Note: This code is intended to only be run in the Python Window of ArcMap*"
   ]
  },
  {
   "cell_type": "code",
   "execution_count": null,
   "metadata": {
    "collapsed": true
   },
   "outputs": [],
   "source": [
    "# Descibing data\n",
    "\n",
    "import arcpy\n",
    "\n",
    "layerName = \"Illinois Counties\"\n",
    "\n",
    "fcDescribe = arcpy.Describe(layerName)\n",
    "fcDataType = fcDescribe.dataElement.dataType\n",
    "fcName = fcDescribe.baseName\n",
    "fcPath = fcDescribe.path\n",
    "fcSpatialRef = fcDescribe.spatialReference.name\n",
    "fcCount = arcpy.GetCount_management(layerName)\n",
    "\n",
    "print \"{0} is a {1} stored at {2} with a file name of {3} with the {4} coordinate system and contains {5} features.\".format(layerName, fcDataType, fcPath, fcName, fcSpatialRef, str(fcCount))\n"
   ]
  },
  {
   "cell_type": "markdown",
   "metadata": {},
   "source": [
    "### Working with Geoprocessing Tools in ArcPy\n",
    "\n",
    "* Any tool in ArcToolbox can be used in with ArcPy\n",
    "* More...\n",
    "\n",
    "Type or copy the following code into the Python window\n",
    "\n",
    "*Note: This code is intended to only be run in the Python Window of ArcMap*"
   ]
  },
  {
   "cell_type": "code",
   "execution_count": null,
   "metadata": {
    "collapsed": true
   },
   "outputs": [],
   "source": [
    "# Geoprocessing Tool Scripts\n",
    "\n",
    "# Step 1:\n",
    "import arcpy\n",
    "\n",
    "layerName = \"Illinois Counties\"\n",
    "\n",
    "expression = \"ACSMEDHINC <= 40000\"\n",
    "\n",
    "arcpy.SelectLayerByAttribute_management(layerName, \"NEW_SELECTION\", expression)\n",
    "\n",
    "arcpy.SelectLayerByAttribute_management(layerName, \"CLEAR_SELECTION\")\n",
    "\n",
    "# Ensure that a default geodatabase is set\n",
    "\n",
    "# Step 3:\n",
    "\n",
    "disolveField = [\"STATE_NAME\", \"ST_ABBREV\"]\n",
    "\n",
    "arcpy.Dissolve_management(layerName, \"Illinois\", disolveField, \"\", \"SINGLE_PART\", \"DISSOLVE_LINES\")\n",
    "\n",
    "arcpy.PolygonToLine_management(\"Illinois\", \"Illinois_Boundary\")\n",
    "\n",
    "# Step 4:\n",
    "\n",
    "# Replace the '...' with the location where you placed your downloaded data\n",
    "jeopardyCSV = r\"C:\\...\\ILGISA\\Data\\CSV\\playerswithcoords.csv\"\n",
    "\n",
    "arcpy.CopyRows_management(jeopardyCSV, \"JeopardyContestants_Table\")\n",
    "\n",
    "arcpy.MakeXYEventLayer_management(\"JeopardyContestants_Table\", \"lon\", \"lat\", \"Jeopardy Contestants\")\n",
    "\n",
    "arcpy.Select_analysis(\"Jeopardy Contestants\", \"JeopardyContestants\", \"lat IS NOT  NULL or lon IS NOT NULL\")\n",
    "\n",
    "arcpy.Buffer_analysis(\"JeopardyContestants\", \"Buffer\", \"5 Miles\", \"FULL\", \"ROUND\", \"ALL\", \"\", \"GEODESIC\")\n",
    "\n",
    "# Your turn:\n",
    "\n",
    "# 1: Write code to clip the buffer to the Illinois boundary...be careful with what tool you choose\n",
    "\n",
    "# 2: Write code to intersect the new buffer to the Illinois counties...you might need to check the help documentation\n",
    "\n"
   ]
  },
  {
   "cell_type": "markdown",
   "metadata": {},
   "source": [
    "# Automating Geoprocesses with Stand-alone Scripts\n",
    "\n",
    "* Planning the geoprocessing and Analysis process (i.e. pseudo code)\n",
    "* Convert CSV files to Feature Class/Shapefile. (Data Management process)\n",
    "  * Data preparation for analysis\n",
    "  * Dataset mashups (??)\n",
    "* Iterating processes\n",
    "* Copying Python code snippets from ArcMap\n",
    "* Working with cursors\n",
    "* Handling errors and debugging"
   ]
  },
  {
   "cell_type": "markdown",
   "metadata": {},
   "source": [
    "# Adding Python Script Tools to Toolboxes\n",
    "\n",
    "* Sharing scripts via ArcGIS toolboxes\n",
    "* Modifying descriptions in Script tools\n",
    "* Other Ideas:\n",
    "  * converting a model to a script\n",
    "  * Start by building something in ModelBuilder and then editing it and adding in other tasks within the script (???)\n",
    "* Sharing scripts via the ArcGIS toolbox\n"
   ]
  }
 ],
 "metadata": {
  "kernelspec": {
   "display_name": "Python 2",
   "language": "python",
   "name": "python2"
  },
  "language_info": {
   "codemirror_mode": {
    "name": "ipython",
    "version": 2
   },
   "file_extension": ".py",
   "mimetype": "text/x-python",
   "name": "python",
   "nbconvert_exporter": "python",
   "pygments_lexer": "ipython2",
   "version": "2.7.8"
  }
 },
 "nbformat": 4,
 "nbformat_minor": 0
}
