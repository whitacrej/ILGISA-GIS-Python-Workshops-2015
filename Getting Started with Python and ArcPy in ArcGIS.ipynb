{
 "cells": [
  {
   "cell_type": "markdown",
   "metadata": {},
   "source": [
    "# Getting Started with Python and ArcPy in ArcGIS\n",
    "\n",
    "**Description:**\n",
    "\n",
    "Building on Python Programming Basics for GIS Professionals but open to anyone with some programming experience, this workshop will expand on those skills to further use Python in ArcGIS. The workshop will focus on the ArcPy Python site package to expand geoprocessing capabilities with Python scripts. Participants will learn to build multiple standalone geoprocessing scripts covering different GIS tasks and workflows. The workshop will also cover how to create scripting tools in ArcGIS toolboxes for reuse and sharing. Participants will finish with the skills to explore more resources and options for utilizing Python in ArcGIS.\n",
    "\n",
    "**Specific Topics Include:**\n",
    "\n",
    "* Work with the ArcPy Python site package for ArcGIS\n",
    "* Convert ModelBuilder models to Python scripts\n",
    "* Build and share stand-alone Python script tools for automation\n",
    "* Learn tips and tricks for valid script syntax and error handling\n",
    "\n",
    "**Computing and Software Needs:**\n",
    "\n",
    "* Your own laptop; computers will not be provided.\n",
    "\n",
    "* Python IDE\n",
    "    * <a href=\"http://sourceforge.net/projects/pyscripter/files/\" target=\"_blank\">PyScripter</a> (v. 2.6.0 **32-bit**) \n",
    "    *NOTE:* The zip files contain portable versions of PyScripter.   No installation is needed. Just unzip the archive and start using PyScripter.\n",
    "    \n",
    "    * <a href=\"https://www.jetbrains.com/pycharm/download/\" target=\"_blank\">JetBrains PyCharm Community Edition</a> \n",
    "    *NOTE:* This IDE requires admin privileges to install.\n",
    "    \n",
    "    * IDLE is also shipped with ArcGIS for Desktop, so it can also be used.\n",
    "\n",
    "* <a href=\"https://pypi.python.org/pypi/nominatim/0.1\" target=\"_blank\">OSM Nominatim API module</a> *NOTE:* Windows users will need to download the Windows installer .exe file.\n",
    "\n",
    "* ArcGIS 10.1+ for Desktop (Standard or Advanced)\n",
    "\n",
    "\n",
    "**Instructors:**\n",
    "\n",
    "**James Whitacre**, GIS Specialist, University Library, University of Illinois at Urbana-Champaign\n",
    "\n",
    "As the GIS Specialist in the Main Library at the University of Illinois at Urbana-Champaign, Mr. Whitacre's primary role is to provide GIS consultation and research assistance for faculty, staff, and students. Additionally, he teaches a myriad of GIS workshops for beginner to advanced users and helps manage the Library's GIS data and software assets. He is also a central resource for the GIS community on campus to promote the use of GIS in research. Mr. Whitacre holds a Master of Science in Geography and was previously the GIS Manager for the Carnegie Museum of Natural History.\n",
    "\n",
    "**Zoe Zaloudek**, GIS Specialist, Illinois State Water Survey, Prairie Research Institute\n",
    "\n",
    "Bio...\n"
   ]
  },
  {
   "cell_type": "markdown",
   "metadata": {},
   "source": [
    "# Review of *Python Programming Basics for GIS Professionals*\n",
    "\n",
    "* this will catch up/review minimal skills needed for those who didn't attend first session\n",
    "* Maybe Zoe teaches this portion\n",
    "* Have the students try some Python to calculate a field\n"
   ]
  },
  {
   "cell_type": "markdown",
   "metadata": {},
   "source": [
    "### Calculat Fields Using Python\n",
    "\n",
    "*Note: This code is intended to be used to calculate an attribute table field in ArcGIS using the Field Calculator or Calculate Field tool.\n"
   ]
  },
  {
   "cell_type": "code",
   "execution_count": null,
   "metadata": {
    "collapsed": true
   },
   "outputs": [],
   "source": [
    "# Code Block:\n",
    "\n",
    "\n",
    "\n",
    "# Expression:\n",
    "\n"
   ]
  },
  {
   "cell_type": "markdown",
   "metadata": {},
   "source": [
    "# Introduction to ArcPy"
   ]
  },
  {
   "cell_type": "markdown",
   "metadata": {},
   "source": [
    "### What is ArcPy?\n",
    "\n",
    "    ArcPy is a site package that builds on (and is a successor to) the successful arcgisscripting module. Its goal is to create the cornerstone for a useful and productive way to perform geographic data analysis, data conversion, data management, and map automation with Python.\n",
    "\n",
    "    This package provides a rich and native Python experience offering code completion (type a keyword and a dot to get a pop-up list of properties and methods supported by that keyword; select one to insert it) and reference documentation for each function, module, and class.\n",
    "\n",
    "    The additional power of using ArcPy within Python is the fact that Python is a general-purpose programming language. It is interpreted and dynamically typed and is suited for interactive work and quick prototyping of one-off programs known as scripts while being powerful enough to write large applications in. ArcGIS applications written with ArcPy benefit from the development of additional modules in numerous niches of Python by GIS professionals and programmers from many different disciplines.\n",
    "\n",
    "From <a href=\"http://desktop.arcgis.com/en/desktop/latest/analyze/arcpy/what-is-arcpy-.htm\" target=\"_blank\">http://desktop.arcgis.com/en/desktop/latest/analyze/arcpy/what-is-arcpy-.htm</a>\n",
    "\n",
    "### What is a Site Package?\n",
    "\n",
    "* Like a module, but contains other modules, functions, and classes\n",
    "* Site packages and modules add functionality to Python\n",
    "\n",
    "### Importing ArcPy\n",
    "\n",
    "* To work with ArcPy, you must import in your code\n",
    "* Once imported, you can now use all the modules, functions, tools, and classes\n"
   ]
  },
  {
   "cell_type": "code",
   "execution_count": null,
   "metadata": {
    "collapsed": false,
    "scrolled": true
   },
   "outputs": [],
   "source": [
    "import arcpy\n",
    "\n",
    "# Always import the ArcPy site package and other modules first\n",
    "\n",
    "# this may take a while if you are working outside of ArcGIS\n"
   ]
  },
  {
   "cell_type": "markdown",
   "metadata": {},
   "source": [
    "### Utilizing the ArcPy ArcGIS for Desktop Help Documentation\n",
    "\n",
    "\n",
    "* Desktop vs. Python window vs. Online documentation\n",
    "  * Desktop help can be opened through the Help menu or from the tool interface\n",
    "  * Python window help and syntax panel on the right (more on this later)\n",
    "  * http://desktop.arcgis.com/en/documentation/\n",
    "\n",
    "* Understanding geoprocessing tool help with Python and ArcPy\n",
    "  * Includes tool syntax and sample codes for the Python window and stand-alone scripts\n",
    "  * Includes detailed explanations of each parameter\n",
    "  \n",
    "* ArcPy help: http://desktop.arcgis.com/en/desktop/latest/analyze/arcpy/what-is-arcpy-.htm\n",
    "  * Contains help on functions and class not listed in the tool documentation\n",
    "  * Note the additional modules\n"
   ]
  },
  {
   "cell_type": "markdown",
   "metadata": {},
   "source": [
    "# Working with the Python Window in ArcMap"
   ]
  },
  {
   "cell_type": "markdown",
   "metadata": {},
   "source": [
    "### Download exercise data from: URL...\n",
    "\n",
    "### Open the ArcMap Document 'Illinois.mxd'\n",
    "\n",
    "### Open the Python Window in ArcMap\n",
    "\n",
    "* Replaces the Command Line for earlier releases of ArcGIS\n",
    "* Allows for running geoprocessing tools while also taking advantage of other Python modules and librarires\n",
    "* Can be used for single-line code (e.g. Used instead of ArcToolbox to access tools)\n",
    "* Can be used for testing syntax and longer, more complex scripts that might be used for automating workflows"
   ]
  },
  {
   "cell_type": "markdown",
   "metadata": {},
   "source": [
    "### Notes About the Python Window\n",
    "\n",
    "* Left side is the interactive Python interpreter panel\n",
    "  * This is where code is entered\n",
    "  * Note the three greater-than symbols (>>>)\n",
    "* Right side is the help and syntax panel\n",
    "* Code is generally executed one line at a time and displayed immediately. Exceptions include:\n",
    "  * Multi-line constucts (such as IF statements)\n",
    "  * Pressing SHIFT or CTRL + ENTER at the end of a line of code (you may need to hit ENTER a few times when you are ready to run the code)\n",
    "* Other Advanatages of the Python window\n",
    "  * Autocompletion\n",
    "  * Conditional and Iteration executuion\n",
    "  * Scripts can be saved and reused or opened with another Python IDE"
   ]
  },
  {
   "cell_type": "markdown",
   "metadata": {},
   "source": [
    "# ArcMap Python Window Exercise"
   ]
  },
  {
   "cell_type": "markdown",
   "metadata": {},
   "source": [
    "### Describing Data with ArcPy\n",
    "\n",
    "* Describing data allows to learn more about the data we are working with\n",
    "* Describe functions are useful when scripts may be dependent on the type of data being used\n",
    "* Good for controlling script flow and valdating parameters\n",
    "* Many property groups and some prperties exist for only some types\n",
    "\n",
    "See ArcGIS Documentation: http://desktop.arcgis.com/en/desktop/latest/analyze/arcpy-functions/describe.htm\n",
    "\n",
    "#### System Paths vs. Catalog paths\n",
    "\n",
    "* System paths are recognized by the Windows operating system\n",
    "  * Files in folders\n",
    "  * Ex. Shapefiles and rasters\n",
    "  \n",
    "* Catalog paths are only recognized by ArcGIS\n",
    "  * Used for feature classes and other data in geodatabases\n",
    "  * Geodatabases could be file (.gdb), personal (.mdb) or enterprise (.sde)\n",
    "  * Contain 2 parts:\n",
    "    * Workspace - could be the geodatabase root or a feture dataset\n",
    "    * Base name - the feature class, raster, or other file types that can be saved in geodatabases\n",
    "  * Requires the programmer to be aware of the context inwhich the path is being used\n",
    "\n",
    "Type, do not copy, the following code into the Python window\n",
    "\n",
    "*Note: This code is intended to only be run in the Python window of ArcMap*"
   ]
  },
  {
   "cell_type": "code",
   "execution_count": null,
   "metadata": {
    "collapsed": true
   },
   "outputs": [],
   "source": [
    "# Descibing data\n",
    "\n",
    "# Step 1:\n",
    "\n",
    "import arcpy\n",
    "\n",
    "fileName = r'C:\\ILGISA\\Data\\CSV\\playerswithcoords.csv'\n",
    "print arcpy.Exists(fileName)\n",
    "\n",
    "# What kind of path is this? System or Catalog?\n",
    "# What is the result?\n",
    "\n",
    "# Try again, this time\n",
    "# Replace the '...' with the location where you placed your downloaded data\n",
    "\n",
    "fileName = r'C:\\...\\ILGISA\\Data\\CSV\\playerswithcoords.csv'\n",
    "print arcpy.Exists(fileName)\n",
    "\n",
    "# Does it exist? Keep trying until you get the path correct and the result returns TRUE\n",
    "\n",
    "print arcpy.Describe(fileName).dataType\n",
    "# What type of data is this?\n",
    "\n",
    "\n",
    "# Step 2:\n",
    "\n",
    "# Replace the '...' with the location where you placed your downloaded data\n",
    "\n",
    "featureClass = r'C:\\...\\ILGISA\\Data\\Illinois.gdb\\Illinois_Counties'\n",
    "# What kind of path is this?\n",
    "\n",
    "print arcpy.Exists(featureClass)\n",
    "\n",
    "print arcpy.Describe(featureClass).dataType\n",
    "# What type of data is this?\n",
    "\n",
    "\n",
    "# Step 3:\n",
    "\n",
    "layerName = 'Illinois Counties'\n",
    "\n",
    "# What kind of path is this? System or Catalog?\n",
    "\n",
    "print arcpy.Exists(layerName)\n",
    "\n",
    "fcDescribe = arcpy.Describe(layerName)\n",
    "# Note how this Describe function and variable look different than before...\n",
    "# We can have describe objects become variables to be used later\n",
    "\n",
    "print fcDescribe.dataType\n",
    "print fcDescribe.dataElement.dataType\n",
    "\n",
    "# What is the different between the two print statements?\n",
    "# Lets look at the help: \n",
    "# http://desktop.arcgis.com/en/desktop/latest/analyze/arcpy-functions/describe-object-properties.htm\n",
    "# http://desktop.arcgis.com/en/desktop/latest/analyze/arcpy-functions/layer-properties.htm\n",
    "\n",
    "\n",
    "# Step 4:\n",
    "\n",
    "fcDataType = fcDescribe.dataElement.dataType\n",
    "\n",
    "fcName = fcDescribe.baseName\n",
    "\n",
    "fcPath = fcDescribe.path\n",
    "\n",
    "fcSpatialRef = fcDescribe.spatialReference.name\n",
    "\n",
    "fcCount = arcpy.GetCount_management(layerName)\n",
    "\n",
    "print \"{0} is a {1} stored at {2} with a file name of {3} with the {4} coordinate system and contain(s) {5} features.\".format(layerName, fcDataType, fcPath, fcName, fcSpatialRef, str(fcCount))\n",
    "\n"
   ]
  },
  {
   "cell_type": "code",
   "execution_count": null,
   "metadata": {
    "collapsed": false
   },
   "outputs": [],
   "source": [
    "# Listing Data\n",
    "\n",
    "# Step 1:\n",
    "\n",
    "# More on environmental settings later\n",
    "# Replace the '...' with the location where you placed your downloaded data\n",
    "arcpy.env.workspace = r'C:\\...\\ILGISA\\Data\\CSV'\n",
    "\n",
    "print arcpy.ListFiles()\n",
    "\n",
    "arcpy.env.workspace = r'C:\\...\\ILGISA\\Data\\Illinois.gdb'\n",
    "\n",
    "print arcpy.ListFiles()\n",
    "\n",
    "print arcpy.ListFeatureClasses()\n",
    "\n",
    "# What is the difference between the two list functions?\n",
    "\n",
    "# Step 2:\n",
    "\n",
    "print arcpy.ListFields(\"Illinois Counties\")\n",
    "\n",
    "# What is the result? Can you understand it? \n",
    "# What is actually being output in this case? (Hint: What type of object?)\n",
    "\n",
    "fields = arcpy.ListFields(\"Illinois Counties\")\n",
    "for field in fields:\n",
    "    print field.name\n",
    "\n",
    "\n",
    "# Step 3:\n",
    "\n",
    "fieldList = [field.name for field in arcpy.ListFields(\"Illinois Counties\")]\n",
    "\n",
    "print fieldList\n",
    "\n",
    "# How does this result look differently than above?\n",
    "\n",
    "testField = \"Test\"\n",
    "\n",
    "if testField in fieldList:\n",
    "    print \"{0} exists\".format(testField)\n",
    "else:\n",
    "    print \"{0} does not exist\".format(testField)\n"
   ]
  },
  {
   "cell_type": "markdown",
   "metadata": {},
   "source": [
    "### Working with Geoprocessing Tools in ArcPy\n",
    "\n",
    "* ArcPy gives access to all tools in ArcToolbox in addition to nontool functions\n",
    "* Working in the Python window allows for testing ideas and seeing how things work\n",
    "* Tested scripts can also be saved for reuse in the Python window or in an IDE.\n",
    "\n",
    "Type, do not copy, the following code into the Python window\n",
    "\n",
    "*Note: This code is intended to only be run in the Python window of ArcMap*"
   ]
  },
  {
   "cell_type": "code",
   "execution_count": null,
   "metadata": {
    "collapsed": true
   },
   "outputs": [],
   "source": [
    "# Geoprocessing Tool Scripts\n",
    "\n",
    "# Step 1:\n",
    "import arcpy\n",
    "\n",
    "layerName = \"Illinois Counties\"\n",
    "\n",
    "expression = \"ACSMEDHINC <= 40000\"\n",
    "\n",
    "arcpy.SelectLayerByAttribute_management(layerName, \"NEW_SELECTION\", expression)\n",
    "\n",
    "arcpy.SelectLayerByAttribute_management(layerName, \"CLEAR_SELECTION\")\n",
    "\n",
    "# Ensure that a default geodatabase is set\n",
    "\n",
    "# Step 3:\n",
    "\n",
    "disolveFields = [\"STATE_NAME\", \"ST_ABBREV\"]\n",
    "\n",
    "arcpy.Dissolve_management(layerName, \"Illinois\", disolveFields, \"\", \"SINGLE_PART\", \"DISSOLVE_LINES\")\n",
    "\n",
    "arcpy.PolygonToLine_management(\"Illinois\", \"Illinois_Boundary\")\n",
    "\n",
    "# Step 4:\n",
    "\n",
    "# Replace the '...' with the location where you placed your downloaded data\n",
    "# I also have a cool trick...drag, drop, and roll!\n",
    "\n",
    "jeopardyCSV = r\"C:\\...\\ILGISA\\Data\\CSV\\playerswithcoords.csv\"\n",
    "\n",
    "arcpy.CopyRows_management(jeopardyCSV, \"JeopardyContestants_Table\")\n",
    "\n",
    "arcpy.MakeXYEventLayer_management(\"JeopardyContestants_Table\", \"lon\", \"lat\", \"Jeopardy Contestants\")\n",
    "\n",
    "arcpy.Select_analysis(\"Jeopardy Contestants\", \"JeopardyContestants\", \"lat IS NOT  NULL or lon IS NOT NULL\")\n",
    "\n",
    "arcpy.Buffer_analysis(\"JeopardyContestants\", \"Buffer\", \"5 Miles\", \"FULL\", \"ROUND\", \"ALL\", \"\", \"GEODESIC\")\n",
    "\n",
    "# Your turn:\n",
    "\n",
    "# 1: Write code to clip the buffer to the Illinois boundary\n",
    "#    Be careful with what tool you choose...\n",
    "\n",
    "# 2: Write code to intersect the new buffer to the Illinois counties\n",
    "#    You might need to check the tool's help documentation...\n",
    "\n",
    "# 3: Save your work as a text file (.txt) in your 'Scripts' folder. \n",
    "#    Open the text file and view it in a text editor (like Notepad).\n",
    "\n",
    "# 4: Save your work as a Python file (.py) in your 'Scripts' folder.\n",
    "#    Clear the Python window in ArcGIS and load the Python file back into the Python window."
   ]
  },
  {
   "cell_type": "markdown",
   "metadata": {},
   "source": [
    "# Break!!"
   ]
  },
  {
   "cell_type": "markdown",
   "metadata": {},
   "source": [
    "# Python vs. ModelBuilder\n",
    "\n",
    "| Python   | ModelBuilder   |\n",
    "| -------- | -------------- |\n",
    "| Textual programming language | Visual Programming language |\n",
    "| Easy to learn with very flexible structure | Relativiely easier to learn for GIS beginners, but restrictive structure |\n",
    "| Python scripts can be used in ModelBuilder | ModelBuilder can export to Python (but not vice versa) |\n",
    "| Lower-level geoprocessing tasks (e.g. cursors) | Lower-level geoprocessing tasks may not be possible |\n",
    "| More advanced error handling | Errors handled by the tools in the model |\n",
    "| Better for iterations and loops | Can do iterations and loops, but can be difficult to setup properly |\n",
    "| Can use other Python modules and wrap other software (e.g. R) | Restricted by ArcToolbox tools |\n",
    "| Can run Python scripts outside of ArcGIS | ModelBuilder works when ArcGIS is running |\n",
    "\n",
    "* converting a model to a script\n",
    "* Start by building something in ModelBuilder and then editing it and adding in other tasks within the script (???)\n"
   ]
  },
  {
   "cell_type": "markdown",
   "metadata": {},
   "source": [
    "# Automating Geoprocesses with Stand-alone Scripts\n",
    "\n",
    "* Planning the geoprocessing and Analysis process (i.e. pseudo code)\n",
    "* Using environment settings (See pg. 110 in Python Scripting for ArcGIS)\n",
    "* Handling errors and debugging\n",
    "\n",
    "Exercise:\n",
    "\n",
    "* Copying Python code snippets from ArcMap\n",
    "* Convert CSV files to Feature Class/Shapefile. (Data Management process)\n",
    "  * Data preparation for analysis\n",
    "  * Dataset mashups (??)\n",
    "  * Iterating processes\n"
   ]
  },
  {
   "cell_type": "markdown",
   "metadata": {},
   "source": [
    "# Adding Python Script Tools to Toolboxes\n",
    "\n",
    "* Sharing scripts via ArcGIS toolboxes\n",
    "* Working with tool messages (See pg. 112 in Python Scripting for ArcGIS)\n",
    "* Modifying descriptions in Script tools\n",
    "* "
   ]
  }
 ],
 "metadata": {
  "kernelspec": {
   "display_name": "Python 2",
   "language": "python",
   "name": "python2"
  },
  "language_info": {
   "codemirror_mode": {
    "name": "ipython",
    "version": 2
   },
   "file_extension": ".py",
   "mimetype": "text/x-python",
   "name": "python",
   "nbconvert_exporter": "python",
   "pygments_lexer": "ipython2",
   "version": "2.7.8"
  }
 },
 "nbformat": 4,
 "nbformat_minor": 0
}
